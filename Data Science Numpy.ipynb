{
 "cells": [
  {
   "cell_type": "code",
   "execution_count": 3,
   "metadata": {},
   "outputs": [],
   "source": [
    "# python list\n",
    "# list comprehension\n",
    "# array module (import lib array)\n",
    "# numpy array : \n",
    "#       zeros\n",
    "#       ones\n",
    "#       full\n",
    "#       eye\n",
    "#       arange\n",
    "#       reshape\n",
    "#       indexing"
   ]
  },
  {
   "cell_type": "code",
   "execution_count": 4,
   "metadata": {},
   "outputs": [],
   "source": [
    "import numpy as np"
   ]
  },
  {
   "cell_type": "code",
   "execution_count": 5,
   "metadata": {},
   "outputs": [
    {
     "data": {
      "text/plain": [
       "'2.0.1'"
      ]
     },
     "execution_count": 5,
     "metadata": {},
     "output_type": "execute_result"
    }
   ],
   "source": [
    "np.__version__"
   ]
  },
  {
   "cell_type": "code",
   "execution_count": 6,
   "metadata": {},
   "outputs": [
    {
     "name": "stdout",
     "output_type": "stream",
     "text": [
      "\u001b[1;31mDocstring:\u001b[0m\n",
      "zeros(shape, dtype=float, order='C', *, like=None)\n",
      "\n",
      "Return a new array of given shape and type, filled with zeros.\n",
      "\n",
      "Parameters\n",
      "----------\n",
      "shape : int or tuple of ints\n",
      "    Shape of the new array, e.g., ``(2, 3)`` or ``2``.\n",
      "dtype : data-type, optional\n",
      "    The desired data-type for the array, e.g., `numpy.int8`.  Default is\n",
      "    `numpy.float64`.\n",
      "order : {'C', 'F'}, optional, default: 'C'\n",
      "    Whether to store multi-dimensional data in row-major\n",
      "    (C-style) or column-major (Fortran-style) order in\n",
      "    memory.\n",
      "like : array_like, optional\n",
      "    Reference object to allow the creation of arrays which are not\n",
      "    NumPy arrays. If an array-like passed in as ``like`` supports\n",
      "    the ``__array_function__`` protocol, the result will be defined\n",
      "    by it. In this case, it ensures the creation of an array object\n",
      "    compatible with that passed in via this argument.\n",
      "\n",
      "    .. versionadded:: 1.20.0\n",
      "\n",
      "Returns\n",
      "-------\n",
      "out : ndarray\n",
      "    Array of zeros with the given shape, dtype, and order.\n",
      "\n",
      "See Also\n",
      "--------\n",
      "zeros_like : Return an array of zeros with shape and type of input.\n",
      "empty : Return a new uninitialized array.\n",
      "ones : Return a new array setting values to one.\n",
      "full : Return a new array of given shape filled with value.\n",
      "\n",
      "Examples\n",
      "--------\n",
      ">>> np.zeros(5)\n",
      "array([ 0.,  0.,  0.,  0.,  0.])\n",
      "\n",
      ">>> np.zeros((5,), dtype=int)\n",
      "array([0, 0, 0, 0, 0])\n",
      "\n",
      ">>> np.zeros((2, 1))\n",
      "array([[ 0.],\n",
      "       [ 0.]])\n",
      "\n",
      ">>> s = (2,2)\n",
      ">>> np.zeros(s)\n",
      "array([[ 0.,  0.],\n",
      "       [ 0.,  0.]])\n",
      "\n",
      ">>> np.zeros((2,), dtype=[('x', 'i4'), ('y', 'i4')]) # custom dtype\n",
      "array([(0, 0), (0, 0)],\n",
      "      dtype=[('x', '<i4'), ('y', '<i4')])\n",
      "\u001b[1;31mType:\u001b[0m      builtin_function_or_method"
     ]
    }
   ],
   "source": [
    "get_ipython().run_line_magic('pinfo', 'np.zeros')"
   ]
  },
  {
   "cell_type": "code",
   "execution_count": 7,
   "metadata": {},
   "outputs": [
    {
     "name": "stdout",
     "output_type": "stream",
     "text": [
      "Help on built-in function len in module builtins:\n",
      "\n",
      "len(obj, /)\n",
      "    Return the number of items in a container.\n",
      "\n"
     ]
    }
   ],
   "source": [
    "help(len)"
   ]
  },
  {
   "cell_type": "code",
   "execution_count": 8,
   "metadata": {},
   "outputs": [],
   "source": [
    "arr = np.arange(0,100)"
   ]
  },
  {
   "cell_type": "code",
   "execution_count": 9,
   "metadata": {},
   "outputs": [
    {
     "data": {
      "text/plain": [
       "array([ 0,  1,  2,  3,  4,  5,  6,  7,  8,  9, 10, 11, 12, 13, 14, 15, 16,\n",
       "       17, 18, 19, 20, 21, 22, 23, 24, 25, 26, 27, 28, 29, 30, 31, 32, 33,\n",
       "       34, 35, 36, 37, 38, 39, 40, 41, 42, 43, 44, 45, 46, 47, 48, 49, 50,\n",
       "       51, 52, 53, 54, 55, 56, 57, 58, 59, 60, 61, 62, 63, 64, 65, 66, 67,\n",
       "       68, 69, 70, 71, 72, 73, 74, 75, 76, 77, 78, 79, 80, 81, 82, 83, 84,\n",
       "       85, 86, 87, 88, 89, 90, 91, 92, 93, 94, 95, 96, 97, 98, 99])"
      ]
     },
     "execution_count": 9,
     "metadata": {},
     "output_type": "execute_result"
    }
   ],
   "source": [
    "arr"
   ]
  },
  {
   "cell_type": "code",
   "execution_count": 10,
   "metadata": {},
   "outputs": [
    {
     "data": {
      "text/plain": [
       "array([ 0,  2,  4,  6,  8, 10, 12, 14, 16, 18, 20, 22, 24, 26, 28, 30, 32,\n",
       "       34, 36, 38, 40, 42, 44, 46, 48, 50, 52, 54, 56, 58, 60, 62, 64, 66,\n",
       "       68, 70, 72, 74, 76, 78, 80, 82, 84, 86, 88, 90, 92, 94, 96, 98])"
      ]
     },
     "execution_count": 10,
     "metadata": {},
     "output_type": "execute_result"
    }
   ],
   "source": [
    "np.arange(0,100,2)"
   ]
  },
  {
   "cell_type": "code",
   "execution_count": 11,
   "metadata": {},
   "outputs": [
    {
     "name": "stdout",
     "output_type": "stream",
     "text": [
      "\u001b[1;31mDocstring:\u001b[0m\n",
      "arange([start,] stop[, step,], dtype=None, *, device=None, like=None)\n",
      "\n",
      "Return evenly spaced values within a given interval.\n",
      "\n",
      "``arange`` can be called with a varying number of positional arguments:\n",
      "\n",
      "* ``arange(stop)``: Values are generated within the half-open interval\n",
      "  ``[0, stop)`` (in other words, the interval including `start` but\n",
      "  excluding `stop`).\n",
      "* ``arange(start, stop)``: Values are generated within the half-open\n",
      "  interval ``[start, stop)``.\n",
      "* ``arange(start, stop, step)`` Values are generated within the half-open\n",
      "  interval ``[start, stop)``, with spacing between values given by\n",
      "  ``step``.\n",
      "\n",
      "For integer arguments the function is roughly equivalent to the Python\n",
      "built-in :py:class:`range`, but returns an ndarray rather than a ``range``\n",
      "instance.\n",
      "\n",
      "When using a non-integer step, such as 0.1, it is often better to use\n",
      "`numpy.linspace`.\n",
      "\n",
      "See the Warning sections below for more information.\n",
      "\n",
      "Parameters\n",
      "----------\n",
      "start : integer or real, optional\n",
      "    Start of interval.  The interval includes this value.  The default\n",
      "    start value is 0.\n",
      "stop : integer or real\n",
      "    End of interval.  The interval does not include this value, except\n",
      "    in some cases where `step` is not an integer and floating point\n",
      "    round-off affects the length of `out`.\n",
      "step : integer or real, optional\n",
      "    Spacing between values.  For any output `out`, this is the distance\n",
      "    between two adjacent values, ``out[i+1] - out[i]``.  The default\n",
      "    step size is 1.  If `step` is specified as a position argument,\n",
      "    `start` must also be given.\n",
      "dtype : dtype, optional\n",
      "    The type of the output array.  If `dtype` is not given, infer the data\n",
      "    type from the other input arguments.\n",
      "device : str, optional\n",
      "    The device on which to place the created array. Default: None.\n",
      "    For Array-API interoperability only, so must be ``\"cpu\"`` if passed.\n",
      "\n",
      "    .. versionadded:: 2.0.0\n",
      "like : array_like, optional\n",
      "    Reference object to allow the creation of arrays which are not\n",
      "    NumPy arrays. If an array-like passed in as ``like`` supports\n",
      "    the ``__array_function__`` protocol, the result will be defined\n",
      "    by it. In this case, it ensures the creation of an array object\n",
      "    compatible with that passed in via this argument.\n",
      "\n",
      "    .. versionadded:: 1.20.0\n",
      "\n",
      "Returns\n",
      "-------\n",
      "arange : ndarray\n",
      "    Array of evenly spaced values.\n",
      "\n",
      "    For floating point arguments, the length of the result is\n",
      "    ``ceil((stop - start)/step)``.  Because of floating point overflow,\n",
      "    this rule may result in the last element of `out` being greater\n",
      "    than `stop`.\n",
      "\n",
      "Warnings\n",
      "--------\n",
      "The length of the output might not be numerically stable.\n",
      "\n",
      "Another stability issue is due to the internal implementation of\n",
      "`numpy.arange`.\n",
      "The actual step value used to populate the array is\n",
      "``dtype(start + step) - dtype(start)`` and not `step`. Precision loss\n",
      "can occur here, due to casting or due to using floating points when\n",
      "`start` is much larger than `step`. This can lead to unexpected\n",
      "behaviour. For example::\n",
      "\n",
      "  >>> np.arange(0, 5, 0.5, dtype=int)\n",
      "  array([0, 0, 0, 0, 0, 0, 0, 0, 0, 0])\n",
      "  >>> np.arange(-3, 3, 0.5, dtype=int)\n",
      "  array([-3, -2, -1,  0,  1,  2,  3,  4,  5,  6,  7,  8])\n",
      "\n",
      "In such cases, the use of `numpy.linspace` should be preferred.\n",
      "\n",
      "The built-in :py:class:`range` generates :std:doc:`Python built-in integers\n",
      "that have arbitrary size <python:c-api/long>`, while `numpy.arange`\n",
      "produces `numpy.int32` or `numpy.int64` numbers. This may result in\n",
      "incorrect results for large integer values::\n",
      "\n",
      "  >>> power = 40\n",
      "  >>> modulo = 10000\n",
      "  >>> x1 = [(n ** power) % modulo for n in range(8)]\n",
      "  >>> x2 = [(n ** power) % modulo for n in np.arange(8)]\n",
      "  >>> print(x1)\n",
      "  [0, 1, 7776, 8801, 6176, 625, 6576, 4001]  # correct\n",
      "  >>> print(x2)\n",
      "  [0, 1, 7776, 7185, 0, 5969, 4816, 3361]  # incorrect\n",
      "\n",
      "See Also\n",
      "--------\n",
      "numpy.linspace : Evenly spaced numbers with careful handling of endpoints.\n",
      "numpy.ogrid: Arrays of evenly spaced numbers in N-dimensions.\n",
      "numpy.mgrid: Grid-shaped arrays of evenly spaced numbers in N-dimensions.\n",
      ":ref:`how-to-partition`\n",
      "\n",
      "Examples\n",
      "--------\n",
      ">>> np.arange(3)\n",
      "array([0, 1, 2])\n",
      ">>> np.arange(3.0)\n",
      "array([ 0.,  1.,  2.])\n",
      ">>> np.arange(3,7)\n",
      "array([3, 4, 5, 6])\n",
      ">>> np.arange(3,7,2)\n",
      "array([3, 5])\n",
      "\u001b[1;31mType:\u001b[0m      builtin_function_or_method"
     ]
    }
   ],
   "source": [
    "get_ipython().run_line_magic('pinfo', 'np.arange')\n"
   ]
  },
  {
   "cell_type": "code",
   "execution_count": 12,
   "metadata": {},
   "outputs": [
    {
     "data": {
      "text/plain": [
       "array([ 0,  4,  8, 12, 16, 20, 24, 28, 32, 36, 40, 44, 48, 52, 56, 60, 64,\n",
       "       68, 72, 76, 80, 84, 88, 92, 96])"
      ]
     },
     "execution_count": 12,
     "metadata": {},
     "output_type": "execute_result"
    }
   ],
   "source": [
    "np.arange(0,100,4)"
   ]
  },
  {
   "cell_type": "code",
   "execution_count": 13,
   "metadata": {},
   "outputs": [
    {
     "data": {
      "text/plain": [
       "array([-78, -77, -76, -75, -74, -73, -72, -71, -70, -69, -68, -67, -66,\n",
       "       -65, -64, -63, -62, -61, -60, -59, -58, -57, -56, -55, -54, -53,\n",
       "       -52, -51, -50, -49, -48, -47, -46, -45, -44, -43, -42, -41, -40,\n",
       "       -39, -38, -37, -36, -35, -34, -33, -32, -31, -30, -29, -28, -27,\n",
       "       -26, -25, -24, -23, -22, -21, -20, -19, -18, -17, -16, -15, -14,\n",
       "       -13, -12, -11, -10,  -9,  -8,  -7,  -6,  -5,  -4,  -3,  -2,  -1,\n",
       "         0,   1,   2,   3,   4,   5,   6,   7,   8,   9,  10,  11,  12,\n",
       "        13,  14,  15,  16,  17,  18,  19,  20,  21,  22,  23,  24,  25,\n",
       "        26,  27,  28,  29,  30,  31,  32,  33,  34,  35,  36,  37,  38,\n",
       "        39,  40,  41,  42,  43,  44,  45,  46,  47,  48,  49,  50,  51,\n",
       "        52,  53,  54,  55,  56,  57,  58,  59,  60,  61,  62,  63,  64,\n",
       "        65,  66,  67,  68,  69,  70,  71,  72,  73,  74,  75,  76,  77])"
      ]
     },
     "execution_count": 13,
     "metadata": {},
     "output_type": "execute_result"
    }
   ],
   "source": [
    "np.arange(-78,78)"
   ]
  },
  {
   "cell_type": "code",
   "execution_count": 14,
   "metadata": {},
   "outputs": [
    {
     "data": {
      "text/plain": [
       "[0, 1, 2, 3, 4, 5, 6, 7, 8, 9]"
      ]
     },
     "execution_count": 14,
     "metadata": {},
     "output_type": "execute_result"
    }
   ],
   "source": [
    "list(range(0,10))"
   ]
  },
  {
   "cell_type": "code",
   "execution_count": 15,
   "metadata": {},
   "outputs": [
    {
     "data": {
      "text/plain": [
       "'Lists take time computing as it has multiple datatypes to deal with. Array computes faster as it only has to compute single datatype.'"
      ]
     },
     "execution_count": 15,
     "metadata": {},
     "output_type": "execute_result"
    }
   ],
   "source": [
    "# Difference between List and Numpy Array.\n",
    "\"In list, we can store different datatype elements. And in Numpy Array we can only store any 1 datatype elements.\"\n",
    "\"Lists take time computing as it has multiple datatypes to deal with. Array computes faster as it only has to compute single datatype.\""
   ]
  },
  {
   "cell_type": "code",
   "execution_count": 16,
   "metadata": {},
   "outputs": [],
   "source": [
    "l2 = [ x for x in range(0,10)]"
   ]
  },
  {
   "cell_type": "code",
   "execution_count": 17,
   "metadata": {},
   "outputs": [
    {
     "data": {
      "text/plain": [
       "[0, 1, 2, 3, 4, 5, 6, 7, 8, 9]"
      ]
     },
     "execution_count": 17,
     "metadata": {},
     "output_type": "execute_result"
    }
   ],
   "source": [
    "l2"
   ]
  },
  {
   "cell_type": "code",
   "execution_count": 18,
   "metadata": {},
   "outputs": [],
   "source": [
    "l3 = [str(x) for x in l2]"
   ]
  },
  {
   "cell_type": "code",
   "execution_count": 19,
   "metadata": {},
   "outputs": [
    {
     "data": {
      "text/plain": [
       "['0', '1', '2', '3', '4', '5', '6', '7', '8', '9']"
      ]
     },
     "execution_count": 19,
     "metadata": {},
     "output_type": "execute_result"
    }
   ],
   "source": [
    "l3"
   ]
  },
  {
   "cell_type": "code",
   "execution_count": 20,
   "metadata": {},
   "outputs": [],
   "source": [
    "l4 = [x**2 for x in l2]"
   ]
  },
  {
   "cell_type": "code",
   "execution_count": 21,
   "metadata": {},
   "outputs": [
    {
     "data": {
      "text/plain": [
       "[0, 1, 4, 9, 16, 25, 36, 49, 64, 81]"
      ]
     },
     "execution_count": 21,
     "metadata": {},
     "output_type": "execute_result"
    }
   ],
   "source": [
    "l4"
   ]
  },
  {
   "cell_type": "code",
   "execution_count": 22,
   "metadata": {},
   "outputs": [
    {
     "data": {
      "text/plain": [
       "list"
      ]
     },
     "execution_count": 22,
     "metadata": {},
     "output_type": "execute_result"
    }
   ],
   "source": [
    "type(l4)"
   ]
  },
  {
   "cell_type": "code",
   "execution_count": 23,
   "metadata": {},
   "outputs": [],
   "source": [
    "import array"
   ]
  },
  {
   "cell_type": "code",
   "execution_count": 24,
   "metadata": {},
   "outputs": [
    {
     "name": "stdout",
     "output_type": "stream",
     "text": [
      "Help on built-in module array:\n",
      "\n",
      "NAME\n",
      "    array\n",
      "\n",
      "DESCRIPTION\n",
      "    This module defines an object type which can efficiently represent\n",
      "    an array of basic values: characters, integers, floating point\n",
      "    numbers.  Arrays are sequence types and behave very much like lists,\n",
      "    except that the type of objects stored in them is constrained.\n",
      "\n",
      "CLASSES\n",
      "    builtins.object\n",
      "        array\n",
      "\n",
      "    ArrayType = class array(builtins.object)\n",
      "     |  array(typecode [, initializer]) -> array\n",
      "     |\n",
      "     |  Return a new array whose items are restricted by typecode, and\n",
      "     |  initialized from the optional initializer value, which must be a list,\n",
      "     |  string or iterable over elements of the appropriate type.\n",
      "     |\n",
      "     |  Arrays represent basic values and behave very much like lists, except\n",
      "     |  the type of objects stored in them is constrained. The type is specified\n",
      "     |  at object creation time by using a type code, which is a single character.\n",
      "     |  The following type codes are defined:\n",
      "     |\n",
      "     |      Type code   C Type             Minimum size in bytes\n",
      "     |      'b'         signed integer     1\n",
      "     |      'B'         unsigned integer   1\n",
      "     |      'u'         Unicode character  2 (see note)\n",
      "     |      'h'         signed integer     2\n",
      "     |      'H'         unsigned integer   2\n",
      "     |      'i'         signed integer     2\n",
      "     |      'I'         unsigned integer   2\n",
      "     |      'l'         signed integer     4\n",
      "     |      'L'         unsigned integer   4\n",
      "     |      'q'         signed integer     8 (see note)\n",
      "     |      'Q'         unsigned integer   8 (see note)\n",
      "     |      'f'         floating point     4\n",
      "     |      'd'         floating point     8\n",
      "     |\n",
      "     |  NOTE: The 'u' typecode corresponds to Python's unicode character. On\n",
      "     |  narrow builds this is 2-bytes on wide builds this is 4-bytes.\n",
      "     |\n",
      "     |  NOTE: The 'q' and 'Q' type codes are only available if the platform\n",
      "     |  C compiler used to build Python supports 'long long', or, on Windows,\n",
      "     |  '__int64'.\n",
      "     |\n",
      "     |  Methods:\n",
      "     |\n",
      "     |  append() -- append a new item to the end of the array\n",
      "     |  buffer_info() -- return information giving the current memory info\n",
      "     |  byteswap() -- byteswap all the items of the array\n",
      "     |  count() -- return number of occurrences of an object\n",
      "     |  extend() -- extend array by appending multiple elements from an iterable\n",
      "     |  fromfile() -- read items from a file object\n",
      "     |  fromlist() -- append items from the list\n",
      "     |  frombytes() -- append items from the string\n",
      "     |  index() -- return index of first occurrence of an object\n",
      "     |  insert() -- insert a new item into the array at a provided position\n",
      "     |  pop() -- remove and return item (default last)\n",
      "     |  remove() -- remove first occurrence of an object\n",
      "     |  reverse() -- reverse the order of the items in the array\n",
      "     |  tofile() -- write all items to a file object\n",
      "     |  tolist() -- return the array converted to an ordinary list\n",
      "     |  tobytes() -- return the array converted to a string\n",
      "     |\n",
      "     |  Attributes:\n",
      "     |\n",
      "     |  typecode -- the typecode character used to create the array\n",
      "     |  itemsize -- the length in bytes of one array item\n",
      "     |\n",
      "     |  Methods defined here:\n",
      "     |\n",
      "     |  __add__(self, value, /)\n",
      "     |      Return self+value.\n",
      "     |\n",
      "     |  __buffer__(self, flags, /)\n",
      "     |      Return a buffer object that exposes the underlying memory of the object.\n",
      "     |\n",
      "     |  __contains__(self, key, /)\n",
      "     |      Return bool(key in self).\n",
      "     |\n",
      "     |  __copy__(self, /)\n",
      "     |      Return a copy of the array.\n",
      "     |\n",
      "     |  __deepcopy__(self, unused, /)\n",
      "     |      Return a copy of the array.\n",
      "     |\n",
      "     |  __delitem__(self, key, /)\n",
      "     |      Delete self[key].\n",
      "     |\n",
      "     |  __eq__(self, value, /)\n",
      "     |      Return self==value.\n",
      "     |\n",
      "     |  __ge__(self, value, /)\n",
      "     |      Return self>=value.\n",
      "     |\n",
      "     |  __getattribute__(self, name, /)\n",
      "     |      Return getattr(self, name).\n",
      "     |\n",
      "     |  __getitem__(self, key, /)\n",
      "     |      Return self[key].\n",
      "     |\n",
      "     |  __gt__(self, value, /)\n",
      "     |      Return self>value.\n",
      "     |\n",
      "     |  __iadd__(self, value, /)\n",
      "     |      Implement self+=value.\n",
      "     |\n",
      "     |  __imul__(self, value, /)\n",
      "     |      Implement self*=value.\n",
      "     |\n",
      "     |  __iter__(self, /)\n",
      "     |      Implement iter(self).\n",
      "     |\n",
      "     |  __le__(self, value, /)\n",
      "     |      Return self<=value.\n",
      "     |\n",
      "     |  __len__(self, /)\n",
      "     |      Return len(self).\n",
      "     |\n",
      "     |  __lt__(self, value, /)\n",
      "     |      Return self<value.\n",
      "     |\n",
      "     |  __mul__(self, value, /)\n",
      "     |      Return self*value.\n",
      "     |\n",
      "     |  __ne__(self, value, /)\n",
      "     |      Return self!=value.\n",
      "     |\n",
      "     |  __reduce_ex__(self, value, /)\n",
      "     |      Return state information for pickling.\n",
      "     |\n",
      "     |  __release_buffer__(self, buffer, /)\n",
      "     |      Release the buffer object that exposes the underlying memory of the object.\n",
      "     |\n",
      "     |  __repr__(self, /)\n",
      "     |      Return repr(self).\n",
      "     |\n",
      "     |  __rmul__(self, value, /)\n",
      "     |      Return value*self.\n",
      "     |\n",
      "     |  __setitem__(self, key, value, /)\n",
      "     |      Set self[key] to value.\n",
      "     |\n",
      "     |  __sizeof__(self, /)\n",
      "     |      Size of the array in memory, in bytes.\n",
      "     |\n",
      "     |  append(self, v, /)\n",
      "     |      Append new value v to the end of the array.\n",
      "     |\n",
      "     |  buffer_info(self, /)\n",
      "     |      Return a tuple (address, length) giving the current memory address and the length in items of the buffer used to hold array's contents.\n",
      "     |\n",
      "     |      The length should be multiplied by the itemsize attribute to calculate\n",
      "     |      the buffer length in bytes.\n",
      "     |\n",
      "     |  byteswap(self, /)\n",
      "     |      Byteswap all items of the array.\n",
      "     |\n",
      "     |      If the items in the array are not 1, 2, 4, or 8 bytes in size, RuntimeError is\n",
      "     |      raised.\n",
      "     |\n",
      "     |  count(self, v, /)\n",
      "     |      Return number of occurrences of v in the array.\n",
      "     |\n",
      "     |  extend(self, bb, /)\n",
      "     |      Append items to the end of the array.\n",
      "     |\n",
      "     |  frombytes(self, buffer, /)\n",
      "     |      Appends items from the string, interpreting it as an array of machine values, as if it had been read from a file using the fromfile() method.\n",
      "     |\n",
      "     |  fromfile(self, f, n, /)\n",
      "     |      Read n objects from the file object f and append them to the end of the array.\n",
      "     |\n",
      "     |  fromlist(self, list, /)\n",
      "     |      Append items to array from list.\n",
      "     |\n",
      "     |  fromunicode(self, ustr, /)\n",
      "     |      Extends this array with data from the unicode string ustr.\n",
      "     |\n",
      "     |      The array must be a unicode type array; otherwise a ValueError is raised.\n",
      "     |      Use array.frombytes(ustr.encode(...)) to append Unicode data to an array of\n",
      "     |      some other type.\n",
      "     |\n",
      "     |  index(self, v, start=0, stop=9223372036854775807, /)\n",
      "     |      Return index of first occurrence of v in the array.\n",
      "     |\n",
      "     |      Raise ValueError if the value is not present.\n",
      "     |\n",
      "     |  insert(self, i, v, /)\n",
      "     |      Insert a new item v into the array before position i.\n",
      "     |\n",
      "     |  pop(self, i=-1, /)\n",
      "     |      Return the i-th element and delete it from the array.\n",
      "     |\n",
      "     |      i defaults to -1.\n",
      "     |\n",
      "     |  remove(self, v, /)\n",
      "     |      Remove the first occurrence of v in the array.\n",
      "     |\n",
      "     |  reverse(self, /)\n",
      "     |      Reverse the order of the items in the array.\n",
      "     |\n",
      "     |  tobytes(self, /)\n",
      "     |      Convert the array to an array of machine values and return the bytes representation.\n",
      "     |\n",
      "     |  tofile(self, f, /)\n",
      "     |      Write all items (as machine values) to the file object f.\n",
      "     |\n",
      "     |  tolist(self, /)\n",
      "     |      Convert array to an ordinary list with the same items.\n",
      "     |\n",
      "     |  tounicode(self, /)\n",
      "     |      Extends this array with data from the unicode string ustr.\n",
      "     |\n",
      "     |      Convert the array to a unicode string.  The array must be a unicode type array;\n",
      "     |      otherwise a ValueError is raised.  Use array.tobytes().decode() to obtain a\n",
      "     |      unicode string from an array of some other type.\n",
      "     |\n",
      "     |  ----------------------------------------------------------------------\n",
      "     |  Class methods defined here:\n",
      "     |\n",
      "     |  __class_getitem__(...) from builtins.type\n",
      "     |      See PEP 585\n",
      "     |\n",
      "     |  ----------------------------------------------------------------------\n",
      "     |  Static methods defined here:\n",
      "     |\n",
      "     |  __new__(*args, **kwargs) from builtins.type\n",
      "     |      Create and return a new object.  See help(type) for accurate signature.\n",
      "     |\n",
      "     |  ----------------------------------------------------------------------\n",
      "     |  Data descriptors defined here:\n",
      "     |\n",
      "     |  itemsize\n",
      "     |      the size, in bytes, of one array item\n",
      "     |\n",
      "     |  typecode\n",
      "     |      the typecode character used to create the array\n",
      "     |\n",
      "     |  ----------------------------------------------------------------------\n",
      "     |  Data and other attributes defined here:\n",
      "     |\n",
      "     |  __hash__ = None\n",
      "\n",
      "    class array(builtins.object)\n",
      "     |  array(typecode [, initializer]) -> array\n",
      "     |\n",
      "     |  Return a new array whose items are restricted by typecode, and\n",
      "     |  initialized from the optional initializer value, which must be a list,\n",
      "     |  string or iterable over elements of the appropriate type.\n",
      "     |\n",
      "     |  Arrays represent basic values and behave very much like lists, except\n",
      "     |  the type of objects stored in them is constrained. The type is specified\n",
      "     |  at object creation time by using a type code, which is a single character.\n",
      "     |  The following type codes are defined:\n",
      "     |\n",
      "     |      Type code   C Type             Minimum size in bytes\n",
      "     |      'b'         signed integer     1\n",
      "     |      'B'         unsigned integer   1\n",
      "     |      'u'         Unicode character  2 (see note)\n",
      "     |      'h'         signed integer     2\n",
      "     |      'H'         unsigned integer   2\n",
      "     |      'i'         signed integer     2\n",
      "     |      'I'         unsigned integer   2\n",
      "     |      'l'         signed integer     4\n",
      "     |      'L'         unsigned integer   4\n",
      "     |      'q'         signed integer     8 (see note)\n",
      "     |      'Q'         unsigned integer   8 (see note)\n",
      "     |      'f'         floating point     4\n",
      "     |      'd'         floating point     8\n",
      "     |\n",
      "     |  NOTE: The 'u' typecode corresponds to Python's unicode character. On\n",
      "     |  narrow builds this is 2-bytes on wide builds this is 4-bytes.\n",
      "     |\n",
      "     |  NOTE: The 'q' and 'Q' type codes are only available if the platform\n",
      "     |  C compiler used to build Python supports 'long long', or, on Windows,\n",
      "     |  '__int64'.\n",
      "     |\n",
      "     |  Methods:\n",
      "     |\n",
      "     |  append() -- append a new item to the end of the array\n",
      "     |  buffer_info() -- return information giving the current memory info\n",
      "     |  byteswap() -- byteswap all the items of the array\n",
      "     |  count() -- return number of occurrences of an object\n",
      "     |  extend() -- extend array by appending multiple elements from an iterable\n",
      "     |  fromfile() -- read items from a file object\n",
      "     |  fromlist() -- append items from the list\n",
      "     |  frombytes() -- append items from the string\n",
      "     |  index() -- return index of first occurrence of an object\n",
      "     |  insert() -- insert a new item into the array at a provided position\n",
      "     |  pop() -- remove and return item (default last)\n",
      "     |  remove() -- remove first occurrence of an object\n",
      "     |  reverse() -- reverse the order of the items in the array\n",
      "     |  tofile() -- write all items to a file object\n",
      "     |  tolist() -- return the array converted to an ordinary list\n",
      "     |  tobytes() -- return the array converted to a string\n",
      "     |\n",
      "     |  Attributes:\n",
      "     |\n",
      "     |  typecode -- the typecode character used to create the array\n",
      "     |  itemsize -- the length in bytes of one array item\n",
      "     |\n",
      "     |  Methods defined here:\n",
      "     |\n",
      "     |  __add__(self, value, /)\n",
      "     |      Return self+value.\n",
      "     |\n",
      "     |  __buffer__(self, flags, /)\n",
      "     |      Return a buffer object that exposes the underlying memory of the object.\n",
      "     |\n",
      "     |  __contains__(self, key, /)\n",
      "     |      Return bool(key in self).\n",
      "     |\n",
      "     |  __copy__(self, /)\n",
      "     |      Return a copy of the array.\n",
      "     |\n",
      "     |  __deepcopy__(self, unused, /)\n",
      "     |      Return a copy of the array.\n",
      "     |\n",
      "     |  __delitem__(self, key, /)\n",
      "     |      Delete self[key].\n",
      "     |\n",
      "     |  __eq__(self, value, /)\n",
      "     |      Return self==value.\n",
      "     |\n",
      "     |  __ge__(self, value, /)\n",
      "     |      Return self>=value.\n",
      "     |\n",
      "     |  __getattribute__(self, name, /)\n",
      "     |      Return getattr(self, name).\n",
      "     |\n",
      "     |  __getitem__(self, key, /)\n",
      "     |      Return self[key].\n",
      "     |\n",
      "     |  __gt__(self, value, /)\n",
      "     |      Return self>value.\n",
      "     |\n",
      "     |  __iadd__(self, value, /)\n",
      "     |      Implement self+=value.\n",
      "     |\n",
      "     |  __imul__(self, value, /)\n",
      "     |      Implement self*=value.\n",
      "     |\n",
      "     |  __iter__(self, /)\n",
      "     |      Implement iter(self).\n",
      "     |\n",
      "     |  __le__(self, value, /)\n",
      "     |      Return self<=value.\n",
      "     |\n",
      "     |  __len__(self, /)\n",
      "     |      Return len(self).\n",
      "     |\n",
      "     |  __lt__(self, value, /)\n",
      "     |      Return self<value.\n",
      "     |\n",
      "     |  __mul__(self, value, /)\n",
      "     |      Return self*value.\n",
      "     |\n",
      "     |  __ne__(self, value, /)\n",
      "     |      Return self!=value.\n",
      "     |\n",
      "     |  __reduce_ex__(self, value, /)\n",
      "     |      Return state information for pickling.\n",
      "     |\n",
      "     |  __release_buffer__(self, buffer, /)\n",
      "     |      Release the buffer object that exposes the underlying memory of the object.\n",
      "     |\n",
      "     |  __repr__(self, /)\n",
      "     |      Return repr(self).\n",
      "     |\n",
      "     |  __rmul__(self, value, /)\n",
      "     |      Return value*self.\n",
      "     |\n",
      "     |  __setitem__(self, key, value, /)\n",
      "     |      Set self[key] to value.\n",
      "     |\n",
      "     |  __sizeof__(self, /)\n",
      "     |      Size of the array in memory, in bytes.\n",
      "     |\n",
      "     |  append(self, v, /)\n",
      "     |      Append new value v to the end of the array.\n",
      "     |\n",
      "     |  buffer_info(self, /)\n",
      "     |      Return a tuple (address, length) giving the current memory address and the length in items of the buffer used to hold array's contents.\n",
      "     |\n",
      "     |      The length should be multiplied by the itemsize attribute to calculate\n",
      "     |      the buffer length in bytes.\n",
      "     |\n",
      "     |  byteswap(self, /)\n",
      "     |      Byteswap all items of the array.\n",
      "     |\n",
      "     |      If the items in the array are not 1, 2, 4, or 8 bytes in size, RuntimeError is\n",
      "     |      raised.\n",
      "     |\n",
      "     |  count(self, v, /)\n",
      "     |      Return number of occurrences of v in the array.\n",
      "     |\n",
      "     |  extend(self, bb, /)\n",
      "     |      Append items to the end of the array.\n",
      "     |\n",
      "     |  frombytes(self, buffer, /)\n",
      "     |      Appends items from the string, interpreting it as an array of machine values, as if it had been read from a file using the fromfile() method.\n",
      "     |\n",
      "     |  fromfile(self, f, n, /)\n",
      "     |      Read n objects from the file object f and append them to the end of the array.\n",
      "     |\n",
      "     |  fromlist(self, list, /)\n",
      "     |      Append items to array from list.\n",
      "     |\n",
      "     |  fromunicode(self, ustr, /)\n",
      "     |      Extends this array with data from the unicode string ustr.\n",
      "     |\n",
      "     |      The array must be a unicode type array; otherwise a ValueError is raised.\n",
      "     |      Use array.frombytes(ustr.encode(...)) to append Unicode data to an array of\n",
      "     |      some other type.\n",
      "     |\n",
      "     |  index(self, v, start=0, stop=9223372036854775807, /)\n",
      "     |      Return index of first occurrence of v in the array.\n",
      "     |\n",
      "     |      Raise ValueError if the value is not present.\n",
      "     |\n",
      "     |  insert(self, i, v, /)\n",
      "     |      Insert a new item v into the array before position i.\n",
      "     |\n",
      "     |  pop(self, i=-1, /)\n",
      "     |      Return the i-th element and delete it from the array.\n",
      "     |\n",
      "     |      i defaults to -1.\n",
      "     |\n",
      "     |  remove(self, v, /)\n",
      "     |      Remove the first occurrence of v in the array.\n",
      "     |\n",
      "     |  reverse(self, /)\n",
      "     |      Reverse the order of the items in the array.\n",
      "     |\n",
      "     |  tobytes(self, /)\n",
      "     |      Convert the array to an array of machine values and return the bytes representation.\n",
      "     |\n",
      "     |  tofile(self, f, /)\n",
      "     |      Write all items (as machine values) to the file object f.\n",
      "     |\n",
      "     |  tolist(self, /)\n",
      "     |      Convert array to an ordinary list with the same items.\n",
      "     |\n",
      "     |  tounicode(self, /)\n",
      "     |      Extends this array with data from the unicode string ustr.\n",
      "     |\n",
      "     |      Convert the array to a unicode string.  The array must be a unicode type array;\n",
      "     |      otherwise a ValueError is raised.  Use array.tobytes().decode() to obtain a\n",
      "     |      unicode string from an array of some other type.\n",
      "     |\n",
      "     |  ----------------------------------------------------------------------\n",
      "     |  Class methods defined here:\n",
      "     |\n",
      "     |  __class_getitem__(...) from builtins.type\n",
      "     |      See PEP 585\n",
      "     |\n",
      "     |  ----------------------------------------------------------------------\n",
      "     |  Static methods defined here:\n",
      "     |\n",
      "     |  __new__(*args, **kwargs) from builtins.type\n",
      "     |      Create and return a new object.  See help(type) for accurate signature.\n",
      "     |\n",
      "     |  ----------------------------------------------------------------------\n",
      "     |  Data descriptors defined here:\n",
      "     |\n",
      "     |  itemsize\n",
      "     |      the size, in bytes, of one array item\n",
      "     |\n",
      "     |  typecode\n",
      "     |      the typecode character used to create the array\n",
      "     |\n",
      "     |  ----------------------------------------------------------------------\n",
      "     |  Data and other attributes defined here:\n",
      "     |\n",
      "     |  __hash__ = None\n",
      "\n",
      "DATA\n",
      "    typecodes = 'bBuhHiIlLqQfd'\n",
      "\n",
      "FILE\n",
      "    (built-in)\n",
      "\n",
      "\n"
     ]
    }
   ],
   "source": [
    "help(array)"
   ]
  },
  {
   "cell_type": "code",
   "execution_count": 25,
   "metadata": {},
   "outputs": [],
   "source": [
    "arr = array.array('i', l2)"
   ]
  },
  {
   "cell_type": "code",
   "execution_count": 26,
   "metadata": {},
   "outputs": [
    {
     "data": {
      "text/plain": [
       "array('i', [0, 1, 2, 3, 4, 5, 6, 7, 8, 9])"
      ]
     },
     "execution_count": 26,
     "metadata": {},
     "output_type": "execute_result"
    }
   ],
   "source": [
    "arr"
   ]
  },
  {
   "cell_type": "code",
   "execution_count": 27,
   "metadata": {},
   "outputs": [
    {
     "data": {
      "text/plain": [
       "array.array"
      ]
     },
     "execution_count": 27,
     "metadata": {},
     "output_type": "execute_result"
    }
   ],
   "source": [
    "type(arr)"
   ]
  },
  {
   "cell_type": "code",
   "execution_count": 28,
   "metadata": {},
   "outputs": [],
   "source": [
    "arr1 = array.array('i',[x**2 for x in l2])"
   ]
  },
  {
   "cell_type": "code",
   "execution_count": 29,
   "metadata": {},
   "outputs": [
    {
     "data": {
      "text/plain": [
       "array('i', [0, 1, 4, 9, 16, 25, 36, 49, 64, 81])"
      ]
     },
     "execution_count": 29,
     "metadata": {},
     "output_type": "execute_result"
    }
   ],
   "source": [
    "arr1"
   ]
  },
  {
   "cell_type": "code",
   "execution_count": 30,
   "metadata": {},
   "outputs": [
    {
     "data": {
      "text/plain": [
       "array([0, 1, 2, 3, 4, 5, 6, 7, 8, 9])"
      ]
     },
     "execution_count": 30,
     "metadata": {},
     "output_type": "execute_result"
    }
   ],
   "source": [
    "np.array(l2)"
   ]
  },
  {
   "cell_type": "code",
   "execution_count": 31,
   "metadata": {},
   "outputs": [
    {
     "data": {
      "text/plain": [
       "array([ 3,  4,  5,  6,  7,  8,  9, 10, 11, 12])"
      ]
     },
     "execution_count": 31,
     "metadata": {},
     "output_type": "execute_result"
    }
   ],
   "source": [
    "np.array([x + 3 for x in range(0,10)])"
   ]
  },
  {
   "cell_type": "code",
   "execution_count": 32,
   "metadata": {},
   "outputs": [
    {
     "data": {
      "text/plain": [
       "array([-3, -2, -1,  0,  1,  2,  3,  4,  5,  6])"
      ]
     },
     "execution_count": 32,
     "metadata": {},
     "output_type": "execute_result"
    }
   ],
   "source": [
    "np.array([x - 3 for x in range(0,10)])"
   ]
  },
  {
   "cell_type": "code",
   "execution_count": 33,
   "metadata": {},
   "outputs": [
    {
     "data": {
      "text/plain": [
       "array([1., 2., 3., 4., 5.])"
      ]
     },
     "execution_count": 33,
     "metadata": {},
     "output_type": "execute_result"
    }
   ],
   "source": [
    "np.array([1,2,3,4,5],dtype='float')"
   ]
  },
  {
   "cell_type": "code",
   "execution_count": 34,
   "metadata": {},
   "outputs": [
    {
     "data": {
      "text/plain": [
       "array(['1', '2', '3', '4', '5'], dtype='<U1')"
      ]
     },
     "execution_count": 34,
     "metadata": {},
     "output_type": "execute_result"
    }
   ],
   "source": [
    "np.array([1,2,3,4,5],dtype=str)"
   ]
  },
  {
   "cell_type": "code",
   "execution_count": 35,
   "metadata": {},
   "outputs": [
    {
     "data": {
      "text/plain": [
       "array([1., 2., 3., 4., 5.])"
      ]
     },
     "execution_count": 35,
     "metadata": {},
     "output_type": "execute_result"
    }
   ],
   "source": [
    "np.array([1,2,3,4,5],dtype=np.float64)"
   ]
  },
  {
   "cell_type": "code",
   "execution_count": 36,
   "metadata": {},
   "outputs": [],
   "source": [
    "l2d = [[1,2,3],[4,5,6]]"
   ]
  },
  {
   "cell_type": "code",
   "execution_count": 37,
   "metadata": {},
   "outputs": [
    {
     "data": {
      "text/plain": [
       "[[1, 2, 3], [4, 5, 6]]"
      ]
     },
     "execution_count": 37,
     "metadata": {},
     "output_type": "execute_result"
    }
   ],
   "source": [
    "l2d"
   ]
  },
  {
   "cell_type": "code",
   "execution_count": 38,
   "metadata": {},
   "outputs": [],
   "source": [
    "lc2d = [range(i,i+3) for i in [1,4,7]]"
   ]
  },
  {
   "cell_type": "code",
   "execution_count": 39,
   "metadata": {},
   "outputs": [
    {
     "data": {
      "text/plain": [
       "array([[1, 2, 3],\n",
       "       [4, 5, 6],\n",
       "       [7, 8, 9]])"
      ]
     },
     "execution_count": 39,
     "metadata": {},
     "output_type": "execute_result"
    }
   ],
   "source": [
    "np.array(lc2d)"
   ]
  },
  {
   "cell_type": "code",
   "execution_count": 40,
   "metadata": {},
   "outputs": [
    {
     "data": {
      "text/plain": [
       "array([0., 0., 0., 0., 0., 0., 0., 0., 0., 0.])"
      ]
     },
     "execution_count": 40,
     "metadata": {},
     "output_type": "execute_result"
    }
   ],
   "source": [
    "np.zeros(10)"
   ]
  },
  {
   "cell_type": "code",
   "execution_count": 41,
   "metadata": {},
   "outputs": [
    {
     "data": {
      "text/plain": [
       "array([[0., 0.],\n",
       "       [0., 0.]])"
      ]
     },
     "execution_count": 41,
     "metadata": {},
     "output_type": "execute_result"
    }
   ],
   "source": [
    "np.zeros([2,2])"
   ]
  },
  {
   "cell_type": "code",
   "execution_count": 42,
   "metadata": {},
   "outputs": [
    {
     "data": {
      "text/plain": [
       "array([[0., 0., 0., 0.],\n",
       "       [0., 0., 0., 0.],\n",
       "       [0., 0., 0., 0.]])"
      ]
     },
     "execution_count": 42,
     "metadata": {},
     "output_type": "execute_result"
    }
   ],
   "source": [
    "np.zeros([3,4])"
   ]
  },
  {
   "cell_type": "code",
   "execution_count": 43,
   "metadata": {},
   "outputs": [
    {
     "data": {
      "text/plain": [
       "array([1, 1, 1, 1, 1, 1, 1, 1, 1, 1])"
      ]
     },
     "execution_count": 43,
     "metadata": {},
     "output_type": "execute_result"
    }
   ],
   "source": [
    "np.ones(10,dtype=int)"
   ]
  },
  {
   "cell_type": "code",
   "execution_count": 44,
   "metadata": {},
   "outputs": [
    {
     "data": {
      "text/plain": [
       "array([[1, 1],\n",
       "       [1, 1]])"
      ]
     },
     "execution_count": 44,
     "metadata": {},
     "output_type": "execute_result"
    }
   ],
   "source": [
    "np.ones([2,2],dtype=int)"
   ]
  },
  {
   "cell_type": "code",
   "execution_count": 45,
   "metadata": {},
   "outputs": [],
   "source": [
    "arr = np.ones([10,10], dtype = int)"
   ]
  },
  {
   "cell_type": "code",
   "execution_count": 46,
   "metadata": {},
   "outputs": [
    {
     "data": {
      "text/plain": [
       "array([[1, 1, 1, 1, 1, 1, 1, 1, 1, 1],\n",
       "       [1, 1, 1, 1, 1, 1, 1, 1, 1, 1],\n",
       "       [1, 1, 1, 1, 1, 1, 1, 1, 1, 1],\n",
       "       [1, 1, 1, 1, 1, 1, 1, 1, 1, 1],\n",
       "       [1, 1, 1, 1, 1, 1, 1, 1, 1, 1],\n",
       "       [1, 1, 1, 1, 1, 1, 1, 1, 1, 1],\n",
       "       [1, 1, 1, 1, 1, 1, 1, 1, 1, 1],\n",
       "       [1, 1, 1, 1, 1, 1, 1, 1, 1, 1],\n",
       "       [1, 1, 1, 1, 1, 1, 1, 1, 1, 1],\n",
       "       [1, 1, 1, 1, 1, 1, 1, 1, 1, 1]])"
      ]
     },
     "execution_count": 46,
     "metadata": {},
     "output_type": "execute_result"
    }
   ],
   "source": [
    "arr"
   ]
  },
  {
   "cell_type": "code",
   "execution_count": 47,
   "metadata": {},
   "outputs": [],
   "source": [
    "arr[4:6,4:6] = 1"
   ]
  },
  {
   "cell_type": "code",
   "execution_count": 48,
   "metadata": {},
   "outputs": [
    {
     "data": {
      "text/plain": [
       "array([[1, 1, 1, 1, 1, 1, 1, 1, 1, 1],\n",
       "       [1, 1, 1, 1, 1, 1, 1, 1, 1, 1],\n",
       "       [1, 1, 1, 1, 1, 1, 1, 1, 1, 1],\n",
       "       [1, 1, 1, 1, 1, 1, 1, 1, 1, 1],\n",
       "       [1, 1, 1, 1, 1, 1, 1, 1, 1, 1],\n",
       "       [1, 1, 1, 1, 1, 1, 1, 1, 1, 1],\n",
       "       [1, 1, 1, 1, 1, 1, 1, 1, 1, 1],\n",
       "       [1, 1, 1, 1, 1, 1, 1, 1, 1, 1],\n",
       "       [1, 1, 1, 1, 1, 1, 1, 1, 1, 1],\n",
       "       [1, 1, 1, 1, 1, 1, 1, 1, 1, 1]])"
      ]
     },
     "execution_count": 48,
     "metadata": {},
     "output_type": "execute_result"
    }
   ],
   "source": [
    "arr"
   ]
  },
  {
   "cell_type": "code",
   "execution_count": 49,
   "metadata": {},
   "outputs": [],
   "source": [
    "arr = np.ones([3,3],dtype = int)"
   ]
  },
  {
   "cell_type": "code",
   "execution_count": 50,
   "metadata": {},
   "outputs": [
    {
     "data": {
      "text/plain": [
       "array([[3.1, 3.1, 3.1],\n",
       "       [3.1, 3.1, 3.1],\n",
       "       [3.1, 3.1, 3.1]])"
      ]
     },
     "execution_count": 50,
     "metadata": {},
     "output_type": "execute_result"
    }
   ],
   "source": [
    "3.1*arr"
   ]
  },
  {
   "cell_type": "code",
   "execution_count": 51,
   "metadata": {},
   "outputs": [
    {
     "data": {
      "text/plain": [
       "array([[3.14, 3.14, 3.14, 3.14],\n",
       "       [3.14, 3.14, 3.14, 3.14],\n",
       "       [3.14, 3.14, 3.14, 3.14]])"
      ]
     },
     "execution_count": 51,
     "metadata": {},
     "output_type": "execute_result"
    }
   ],
   "source": [
    "np.full((3,4),3.14)"
   ]
  },
  {
   "cell_type": "code",
   "execution_count": 52,
   "metadata": {},
   "outputs": [],
   "source": [
    "arr = np.eye(3,dtype = int)"
   ]
  },
  {
   "cell_type": "code",
   "execution_count": 53,
   "metadata": {},
   "outputs": [
    {
     "data": {
      "text/plain": [
       "array([[1, 0, 0],\n",
       "       [0, 1, 0],\n",
       "       [0, 0, 1]])"
      ]
     },
     "execution_count": 53,
     "metadata": {},
     "output_type": "execute_result"
    }
   ],
   "source": [
    "np.transpose(arr)"
   ]
  },
  {
   "cell_type": "code",
   "execution_count": 54,
   "metadata": {},
   "outputs": [],
   "source": [
    "ar1 = np.ones([6,6], dtype = int)"
   ]
  },
  {
   "cell_type": "code",
   "execution_count": 55,
   "metadata": {},
   "outputs": [
    {
     "data": {
      "text/plain": [
       "array([[64, 64, 64, 64, 64, 64],\n",
       "       [64, 64, 64, 64, 64, 64],\n",
       "       [64, 64, 64, 64, 64, 64],\n",
       "       [64, 64, 64, 64, 64, 64],\n",
       "       [64, 64, 64, 64, 64, 64],\n",
       "       [64, 64, 64, 64, 64, 64]])"
      ]
     },
     "execution_count": 55,
     "metadata": {},
     "output_type": "execute_result"
    }
   ],
   "source": [
    "64*ar1"
   ]
  },
  {
   "cell_type": "code",
   "execution_count": 56,
   "metadata": {},
   "outputs": [
    {
     "data": {
      "text/plain": [
       "array([[64, 64, 64, 64, 64, 64],\n",
       "       [64, 64, 64, 64, 64, 64],\n",
       "       [64, 64, 64, 64, 64, 64],\n",
       "       [64, 64, 64, 64, 64, 64],\n",
       "       [64, 64, 64, 64, 64, 64],\n",
       "       [64, 64, 64, 64, 64, 64]])"
      ]
     },
     "execution_count": 56,
     "metadata": {},
     "output_type": "execute_result"
    }
   ],
   "source": [
    "np.full([6,6], 64, dtype = int)"
   ]
  },
  {
   "cell_type": "code",
   "execution_count": 57,
   "metadata": {},
   "outputs": [
    {
     "data": {
      "text/plain": [
       "array([0.  , 0.25, 0.5 , 0.75, 1.  ])"
      ]
     },
     "execution_count": 57,
     "metadata": {},
     "output_type": "execute_result"
    }
   ],
   "source": [
    "#linspace function => Linearly spaced elements.\n",
    "\n",
    "np.linspace(0,1,5)"
   ]
  },
  {
   "cell_type": "code",
   "execution_count": 58,
   "metadata": {},
   "outputs": [
    {
     "data": {
      "text/plain": [
       "array([  0.,  25.,  50.,  75., 100.])"
      ]
     },
     "execution_count": 58,
     "metadata": {},
     "output_type": "execute_result"
    }
   ],
   "source": [
    "np.linspace(0,100,5)"
   ]
  },
  {
   "cell_type": "code",
   "execution_count": 59,
   "metadata": {},
   "outputs": [],
   "source": [
    "import numpy as np"
   ]
  },
  {
   "cell_type": "code",
   "execution_count": 60,
   "metadata": {},
   "outputs": [],
   "source": [
    "#shallow copy\n",
    "a=np.arange(1,10).reshape(3,3)"
   ]
  },
  {
   "cell_type": "code",
   "execution_count": 61,
   "metadata": {},
   "outputs": [
    {
     "data": {
      "text/plain": [
       "array([[1, 2, 3],\n",
       "       [4, 5, 6],\n",
       "       [7, 8, 9]])"
      ]
     },
     "execution_count": 61,
     "metadata": {},
     "output_type": "execute_result"
    }
   ],
   "source": [
    "a"
   ]
  },
  {
   "cell_type": "code",
   "execution_count": 62,
   "metadata": {},
   "outputs": [
    {
     "data": {
      "text/plain": [
       "array([[1, 2],\n",
       "       [4, 5]])"
      ]
     },
     "execution_count": 62,
     "metadata": {},
     "output_type": "execute_result"
    }
   ],
   "source": [
    "a[:2,:2]"
   ]
  },
  {
   "cell_type": "code",
   "execution_count": 63,
   "metadata": {},
   "outputs": [],
   "source": [
    "#deep copy\n",
    "da=a[:2,:2].copy()"
   ]
  },
  {
   "cell_type": "code",
   "execution_count": 64,
   "metadata": {},
   "outputs": [
    {
     "data": {
      "text/plain": [
       "array([[1, 2],\n",
       "       [4, 5]])"
      ]
     },
     "execution_count": 64,
     "metadata": {},
     "output_type": "execute_result"
    }
   ],
   "source": [
    "da"
   ]
  },
  {
   "cell_type": "code",
   "execution_count": 65,
   "metadata": {},
   "outputs": [],
   "source": [
    "a[0,0]=11"
   ]
  },
  {
   "cell_type": "code",
   "execution_count": 66,
   "metadata": {},
   "outputs": [
    {
     "data": {
      "text/plain": [
       "array([[11,  2,  3],\n",
       "       [ 4,  5,  6],\n",
       "       [ 7,  8,  9]])"
      ]
     },
     "execution_count": 66,
     "metadata": {},
     "output_type": "execute_result"
    }
   ],
   "source": [
    "a"
   ]
  },
  {
   "cell_type": "code",
   "execution_count": 67,
   "metadata": {},
   "outputs": [
    {
     "data": {
      "text/plain": [
       "array([[1, 2],\n",
       "       [4, 5]])"
      ]
     },
     "execution_count": 67,
     "metadata": {},
     "output_type": "execute_result"
    }
   ],
   "source": [
    "da"
   ]
  },
  {
   "cell_type": "code",
   "execution_count": 68,
   "metadata": {},
   "outputs": [],
   "source": [
    "da[1,1]=5"
   ]
  },
  {
   "cell_type": "code",
   "execution_count": 112,
   "metadata": {},
   "outputs": [
    {
     "data": {
      "text/plain": [
       "array([1, 2, 3, 4, 5, 6, 7])"
      ]
     },
     "execution_count": 112,
     "metadata": {},
     "output_type": "execute_result"
    }
   ],
   "source": [
    "a"
   ]
  },
  {
   "cell_type": "code",
   "execution_count": 70,
   "metadata": {},
   "outputs": [
    {
     "data": {
      "text/plain": [
       "array([1, 2, 3, 4])"
      ]
     },
     "execution_count": 70,
     "metadata": {},
     "output_type": "execute_result"
    }
   ],
   "source": [
    "c=np.arange(1,5)\n",
    "c"
   ]
  },
  {
   "cell_type": "code",
   "execution_count": 71,
   "metadata": {},
   "outputs": [
    {
     "data": {
      "text/plain": [
       "array([[1, 2],\n",
       "       [3, 4]])"
      ]
     },
     "execution_count": 71,
     "metadata": {},
     "output_type": "execute_result"
    }
   ],
   "source": [
    "c.reshape(2,2)"
   ]
  },
  {
   "cell_type": "code",
   "execution_count": 111,
   "metadata": {},
   "outputs": [
    {
     "data": {
      "text/plain": [
       "array([[1, 2, 3],\n",
       "       [4, 5, 6],\n",
       "       [7, 8, 9]])"
      ]
     },
     "execution_count": 111,
     "metadata": {},
     "output_type": "execute_result"
    }
   ],
   "source": [
    "ar=np.arange(1,10).reshape(3,3)\n",
    "ar"
   ]
  },
  {
   "cell_type": "code",
   "execution_count": 73,
   "metadata": {},
   "outputs": [],
   "source": [
    "import numpy as np"
   ]
  },
  {
   "cell_type": "code",
   "execution_count": 74,
   "metadata": {},
   "outputs": [
    {
     "name": "stdout",
     "output_type": "stream",
     "text": [
      "\u001b[1;31mDocstring:\u001b[0m\n",
      "a.ravel([order])\n",
      "\n",
      "Return a flattened array.\n",
      "\n",
      "Refer to `numpy.ravel` for full documentation.\n",
      "\n",
      "See Also\n",
      "--------\n",
      "numpy.ravel : equivalent function\n",
      "\n",
      "ndarray.flat : a flat iterator on the array.\n",
      "\u001b[1;31mType:\u001b[0m      builtin_function_or_method"
     ]
    }
   ],
   "source": [
    "ar.ravel?"
   ]
  },
  {
   "cell_type": "code",
   "execution_count": 75,
   "metadata": {},
   "outputs": [
    {
     "data": {
      "text/plain": [
       "array([ 1,  2,  3,  4,  5,  6,  7,  8,  9, 10, 11, 12, 13, 14, 15, 16, 17,\n",
       "       18, 19, 20, 21, 22, 23, 24, 25])"
      ]
     },
     "execution_count": 75,
     "metadata": {},
     "output_type": "execute_result"
    }
   ],
   "source": [
    "ar.ravel()"
   ]
  },
  {
   "cell_type": "code",
   "execution_count": 76,
   "metadata": {},
   "outputs": [
    {
     "name": "stdout",
     "output_type": "stream",
     "text": [
      "\u001b[1;31mDocstring:\u001b[0m\n",
      "a.flatten(order='C')\n",
      "\n",
      "Return a copy of the array collapsed into one dimension.\n",
      "\n",
      "Parameters\n",
      "----------\n",
      "order : {'C', 'F', 'A', 'K'}, optional\n",
      "    'C' means to flatten in row-major (C-style) order.\n",
      "    'F' means to flatten in column-major (Fortran-\n",
      "    style) order. 'A' means to flatten in column-major\n",
      "    order if `a` is Fortran *contiguous* in memory,\n",
      "    row-major order otherwise. 'K' means to flatten\n",
      "    `a` in the order the elements occur in memory.\n",
      "    The default is 'C'.\n",
      "\n",
      "Returns\n",
      "-------\n",
      "y : ndarray\n",
      "    A copy of the input array, flattened to one dimension.\n",
      "\n",
      "See Also\n",
      "--------\n",
      "ravel : Return a flattened array.\n",
      "flat : A 1-D flat iterator over the array.\n",
      "\n",
      "Examples\n",
      "--------\n",
      ">>> a = np.array([[1,2], [3,4]])\n",
      ">>> a.flatten()\n",
      "array([1, 2, 3, 4])\n",
      ">>> a.flatten('F')\n",
      "array([1, 3, 2, 4])\n",
      "\u001b[1;31mType:\u001b[0m      builtin_function_or_method"
     ]
    }
   ],
   "source": [
    "ar.flatten?"
   ]
  },
  {
   "cell_type": "code",
   "execution_count": 77,
   "metadata": {},
   "outputs": [
    {
     "data": {
      "text/plain": [
       "array([ 1,  2,  3,  4,  5,  6,  7,  8,  9, 10, 11, 12, 13, 14, 15, 16, 17,\n",
       "       18, 19, 20, 21, 22, 23, 24, 25])"
      ]
     },
     "execution_count": 77,
     "metadata": {},
     "output_type": "execute_result"
    }
   ],
   "source": [
    "ar.flatten()"
   ]
  },
  {
   "cell_type": "code",
   "execution_count": 78,
   "metadata": {},
   "outputs": [
    {
     "data": {
      "text/plain": [
       "array([ 1,  2,  3,  4,  5,  6,  7,  8,  9, 10, 11, 12, 13, 14, 15, 16, 17,\n",
       "       18, 19, 20, 21, 22, 23, 24, 25])"
      ]
     },
     "execution_count": 78,
     "metadata": {},
     "output_type": "execute_result"
    }
   ],
   "source": [
    "ar=ar.flatten()\n",
    "ar"
   ]
  },
  {
   "cell_type": "code",
   "execution_count": 79,
   "metadata": {},
   "outputs": [
    {
     "data": {
      "text/plain": [
       "array([[ 1],\n",
       "       [ 2],\n",
       "       [ 3],\n",
       "       [ 4],\n",
       "       [ 5],\n",
       "       [ 6],\n",
       "       [ 7],\n",
       "       [ 8],\n",
       "       [ 9],\n",
       "       [10],\n",
       "       [11],\n",
       "       [12],\n",
       "       [13],\n",
       "       [14],\n",
       "       [15],\n",
       "       [16],\n",
       "       [17],\n",
       "       [18],\n",
       "       [19],\n",
       "       [20],\n",
       "       [21],\n",
       "       [22],\n",
       "       [23],\n",
       "       [24],\n",
       "       [25]])"
      ]
     },
     "execution_count": 79,
     "metadata": {},
     "output_type": "execute_result"
    }
   ],
   "source": [
    "ar[:,np.newaxis]"
   ]
  },
  {
   "cell_type": "markdown",
   "metadata": {},
   "source": [
    "concatenation , joining of two arrays"
   ]
  },
  {
   "cell_type": "code",
   "execution_count": 80,
   "metadata": {},
   "outputs": [
    {
     "name": "stdout",
     "output_type": "stream",
     "text": [
      "\u001b[1;31mCall signature:\u001b[0m  \u001b[0mnp\u001b[0m\u001b[1;33m.\u001b[0m\u001b[0mconcatenate\u001b[0m\u001b[1;33m(\u001b[0m\u001b[1;33m*\u001b[0m\u001b[0margs\u001b[0m\u001b[1;33m,\u001b[0m \u001b[1;33m**\u001b[0m\u001b[0mkwargs\u001b[0m\u001b[1;33m)\u001b[0m\u001b[1;33m\u001b[0m\u001b[1;33m\u001b[0m\u001b[0m\n",
      "\u001b[1;31mType:\u001b[0m            _ArrayFunctionDispatcher\n",
      "\u001b[1;31mString form:\u001b[0m     <built-in function concatenate>\n",
      "\u001b[1;31mDocstring:\u001b[0m      \n",
      "concatenate(\n",
      "    (a1, a2, ...), \n",
      "    axis=0, \n",
      "    out=None, \n",
      "    dtype=None, \n",
      "    casting=\"same_kind\"\n",
      ")\n",
      "\n",
      "Join a sequence of arrays along an existing axis.\n",
      "\n",
      "Parameters\n",
      "----------\n",
      "a1, a2, ... : sequence of array_like\n",
      "    The arrays must have the same shape, except in the dimension\n",
      "    corresponding to `axis` (the first, by default).\n",
      "axis : int, optional\n",
      "    The axis along which the arrays will be joined.  If axis is None,\n",
      "    arrays are flattened before use.  Default is 0.\n",
      "out : ndarray, optional\n",
      "    If provided, the destination to place the result. The shape must be\n",
      "    correct, matching that of what concatenate would have returned if no\n",
      "    out argument were specified.\n",
      "dtype : str or dtype\n",
      "    If provided, the destination array will have this dtype. Cannot be\n",
      "    provided together with `out`.\n",
      "\n",
      "    .. versionadded:: 1.20.0\n",
      "\n",
      "casting : {'no', 'equiv', 'safe', 'same_kind', 'unsafe'}, optional\n",
      "    Controls what kind of data casting may occur. Defaults to 'same_kind'.\n",
      "    For a description of the options, please see :term:`casting`.\n",
      "    \n",
      "    .. versionadded:: 1.20.0\n",
      "\n",
      "Returns\n",
      "-------\n",
      "res : ndarray\n",
      "    The concatenated array.\n",
      "\n",
      "See Also\n",
      "--------\n",
      "ma.concatenate : Concatenate function that preserves input masks.\n",
      "array_split : Split an array into multiple sub-arrays of equal or\n",
      "              near-equal size.\n",
      "split : Split array into a list of multiple sub-arrays of equal size.\n",
      "hsplit : Split array into multiple sub-arrays horizontally (column wise).\n",
      "vsplit : Split array into multiple sub-arrays vertically (row wise).\n",
      "dsplit : Split array into multiple sub-arrays along the 3rd axis (depth).\n",
      "stack : Stack a sequence of arrays along a new axis.\n",
      "block : Assemble arrays from blocks.\n",
      "hstack : Stack arrays in sequence horizontally (column wise).\n",
      "vstack : Stack arrays in sequence vertically (row wise).\n",
      "dstack : Stack arrays in sequence depth wise (along third dimension).\n",
      "column_stack : Stack 1-D arrays as columns into a 2-D array.\n",
      "\n",
      "Notes\n",
      "-----\n",
      "When one or more of the arrays to be concatenated is a MaskedArray,\n",
      "this function will return a MaskedArray object instead of an ndarray,\n",
      "but the input masks are *not* preserved. In cases where a MaskedArray\n",
      "is expected as input, use the ma.concatenate function from the masked\n",
      "array module instead.\n",
      "\n",
      "Examples\n",
      "--------\n",
      ">>> a = np.array([[1, 2], [3, 4]])\n",
      ">>> b = np.array([[5, 6]])\n",
      ">>> np.concatenate((a, b), axis=0)\n",
      "array([[1, 2],\n",
      "       [3, 4],\n",
      "       [5, 6]])\n",
      ">>> np.concatenate((a, b.T), axis=1)\n",
      "array([[1, 2, 5],\n",
      "       [3, 4, 6]])\n",
      ">>> np.concatenate((a, b), axis=None)\n",
      "array([1, 2, 3, 4, 5, 6])\n",
      "\n",
      "This function will not preserve masking of MaskedArray inputs.\n",
      "\n",
      ">>> a = np.ma.arange(3)\n",
      ">>> a[1] = np.ma.masked\n",
      ">>> b = np.arange(2, 5)\n",
      ">>> a\n",
      "masked_array(data=[0, --, 2],\n",
      "             mask=[False,  True, False],\n",
      "       fill_value=999999)\n",
      ">>> b\n",
      "array([2, 3, 4])\n",
      ">>> np.concatenate([a, b])\n",
      "masked_array(data=[0, 1, 2, 2, 3, 4],\n",
      "             mask=False,\n",
      "       fill_value=999999)\n",
      ">>> np.ma.concatenate([a, b])\n",
      "masked_array(data=[0, --, 2, 2, 3, 4],\n",
      "             mask=[False,  True, False, False, False, False],\n",
      "       fill_value=999999)\n",
      "\u001b[1;31mClass docstring:\u001b[0m\n",
      "Class to wrap functions with checks for __array_function__ overrides.\n",
      "\n",
      "All arguments are required, and can only be passed by position.\n",
      "\n",
      "Parameters\n",
      "----------\n",
      "dispatcher : function or None\n",
      "    The dispatcher function that returns a single sequence-like object\n",
      "    of all arguments relevant.  It must have the same signature (except\n",
      "    the default values) as the actual implementation.\n",
      "    If ``None``, this is a ``like=`` dispatcher and the\n",
      "    ``_ArrayFunctionDispatcher`` must be called with ``like`` as the\n",
      "    first (additional and positional) argument.\n",
      "implementation : function\n",
      "    Function that implements the operation on NumPy arrays without\n",
      "    overrides.  Arguments passed calling the ``_ArrayFunctionDispatcher``\n",
      "    will be forwarded to this (and the ``dispatcher``) as if using\n",
      "    ``*args, **kwargs``.\n",
      "\n",
      "Attributes\n",
      "----------\n",
      "_implementation : function\n",
      "    The original implementation passed in."
     ]
    }
   ],
   "source": [
    "np.concatenate?"
   ]
  },
  {
   "cell_type": "code",
   "execution_count": 81,
   "metadata": {},
   "outputs": [
    {
     "data": {
      "text/plain": [
       "array([ 1,  2,  3,  4,  5,  6,  7,  8,  9, 10, 11, 12, 13, 14, 15, 16, 17,\n",
       "       18, 19, 20, 21, 22, 23, 24, 25,  1,  2,  3,  4])"
      ]
     },
     "execution_count": 81,
     "metadata": {},
     "output_type": "execute_result"
    }
   ],
   "source": [
    "np.concatenate([ar,c])"
   ]
  },
  {
   "cell_type": "code",
   "execution_count": 82,
   "metadata": {},
   "outputs": [
    {
     "ename": "ValueError",
     "evalue": "all the input arrays must have same number of dimensions, but the array at index 0 has 1 dimension(s) and the array at index 1 has 2 dimension(s)",
     "output_type": "error",
     "traceback": [
      "\u001b[1;31m---------------------------------------------------------------------------\u001b[0m",
      "\u001b[1;31mValueError\u001b[0m                                Traceback (most recent call last)",
      "Cell \u001b[1;32mIn[82], line 1\u001b[0m\n\u001b[1;32m----> 1\u001b[0m \u001b[43mnp\u001b[49m\u001b[38;5;241;43m.\u001b[39;49m\u001b[43mconcatenate\u001b[49m\u001b[43m(\u001b[49m\u001b[43m[\u001b[49m\u001b[43mar\u001b[49m\u001b[43m,\u001b[49m\u001b[43ma\u001b[49m\u001b[43m]\u001b[49m\u001b[43m)\u001b[49m\n",
      "\u001b[1;31mValueError\u001b[0m: all the input arrays must have same number of dimensions, but the array at index 0 has 1 dimension(s) and the array at index 1 has 2 dimension(s)"
     ]
    }
   ],
   "source": [
    "np.concatenate([ar,a])"
   ]
  },
  {
   "cell_type": "code",
   "execution_count": null,
   "metadata": {},
   "outputs": [
    {
     "data": {
      "text/plain": [
       "array([ 1,  2,  3,  4,  5,  6,  7,  8,  9, 10, 11, 12, 13, 14, 15, 16, 17,\n",
       "       18, 19, 20, 21, 22, 23, 24, 25,  1,  2,  3,  4])"
      ]
     },
     "execution_count": 84,
     "metadata": {},
     "output_type": "execute_result"
    }
   ],
   "source": [
    "np.concatenate([ar,c],axis=0)\n",
    "# axis to specify row 0/ column 1"
   ]
  },
  {
   "cell_type": "code",
   "execution_count": null,
   "metadata": {},
   "outputs": [],
   "source": [
    "import numpy as np"
   ]
  },
  {
   "cell_type": "code",
   "execution_count": null,
   "metadata": {},
   "outputs": [
    {
     "data": {
      "text/plain": [
       "array([0., 0., 0., 0., 0., 0., 0., 0., 0., 0.])"
      ]
     },
     "execution_count": 85,
     "metadata": {},
     "output_type": "execute_result"
    }
   ],
   "source": [
    "np.zeros(10)"
   ]
  },
  {
   "cell_type": "code",
   "execution_count": null,
   "metadata": {},
   "outputs": [
    {
     "data": {
      "text/plain": [
       "array([1., 1., 1., 1., 1., 1., 1., 1., 1., 1.])"
      ]
     },
     "execution_count": 86,
     "metadata": {},
     "output_type": "execute_result"
    }
   ],
   "source": [
    "np.ones(10)"
   ]
  },
  {
   "cell_type": "code",
   "execution_count": null,
   "metadata": {},
   "outputs": [
    {
     "data": {
      "text/plain": [
       "array([10, 11, 12, 13, 14, 15, 16, 17, 18, 19, 20, 21, 22, 23, 24, 25, 26,\n",
       "       27, 28, 29, 30, 31, 32, 33, 34, 35, 36, 37, 38, 39, 40, 41, 42, 43,\n",
       "       44, 45, 46, 47, 48, 49, 50])"
      ]
     },
     "execution_count": 87,
     "metadata": {},
     "output_type": "execute_result"
    }
   ],
   "source": [
    "np.arange(10,51)"
   ]
  },
  {
   "cell_type": "code",
   "execution_count": null,
   "metadata": {},
   "outputs": [
    {
     "data": {
      "text/plain": [
       "array([[0, 1, 2],\n",
       "       [3, 4, 5],\n",
       "       [6, 7, 8]])"
      ]
     },
     "execution_count": 92,
     "metadata": {},
     "output_type": "execute_result"
    }
   ],
   "source": [
    "np.arange(0,9).reshape(3,3)\n"
   ]
  },
  {
   "cell_type": "code",
   "execution_count": null,
   "metadata": {},
   "outputs": [
    {
     "data": {
      "text/plain": [
       "array([[1., 0., 0.],\n",
       "       [0., 1., 0.],\n",
       "       [0., 0., 1.]])"
      ]
     },
     "execution_count": 95,
     "metadata": {},
     "output_type": "execute_result"
    }
   ],
   "source": [
    "np.eye(3)"
   ]
  },
  {
   "cell_type": "code",
   "execution_count": 85,
   "metadata": {},
   "outputs": [
    {
     "data": {
      "text/plain": [
       "array([0.12505952, 0.07437785, 0.34394058, 0.58278529, 0.64445716,\n",
       "       0.06501186, 0.86034108, 0.32937383, 0.77756702, 0.10953476,\n",
       "       0.49044551, 0.24729946, 0.81796524, 0.24677   , 0.32462238,\n",
       "       0.60210771, 0.95101201, 0.61812798, 0.03798289, 0.5324821 ,\n",
       "       0.64857357, 0.51844396, 0.50992716, 0.76963934, 0.60636085,\n",
       "       0.46574071, 0.18961149, 0.35367748, 0.92021626, 0.83449354,\n",
       "       0.12181567, 0.02996785, 0.186822  , 0.85744448, 0.27227208,\n",
       "       0.1513542 , 0.75349714, 0.87130394, 0.17227073, 0.97193081,\n",
       "       0.95367456, 0.17631651, 0.16526163, 0.75206895, 0.20636797,\n",
       "       0.42288406, 0.23959966, 0.33157157, 0.19916469, 0.33609597,\n",
       "       0.74225086, 0.08848244, 0.55780181, 0.11147969, 0.66325204,\n",
       "       0.74110298, 0.38521843, 0.84276923, 0.55569259, 0.88603407,\n",
       "       0.10850549, 0.40940668, 0.78082146, 0.45772407, 0.26458868,\n",
       "       0.36257804, 0.76811425, 0.18494669, 0.49805874, 0.69935042,\n",
       "       0.65038441, 0.96669005, 0.41515552, 0.23946652, 0.17686302,\n",
       "       0.15756   , 0.67757107, 0.87429895, 0.05703826, 0.68357021,\n",
       "       0.23413022, 0.21775782, 0.52531594, 0.77867791, 0.94704264,\n",
       "       0.40788097, 0.50343232, 0.86175403, 0.71227228, 0.46525943,\n",
       "       0.39302347, 0.56145376, 0.44374045, 0.52495288, 0.06231086,\n",
       "       0.7670314 , 0.39968658, 0.44670302, 0.78486838, 0.76356959])"
      ]
     },
     "execution_count": 85,
     "metadata": {},
     "output_type": "execute_result"
    }
   ],
   "source": [
    "np.random.random(100)"
   ]
  },
  {
   "cell_type": "code",
   "execution_count": 87,
   "metadata": {},
   "outputs": [
    {
     "data": {
      "text/plain": [
       "array([ 0.32329624,  0.7846688 , -2.31841747, -0.12464883,  0.61002316,\n",
       "       -1.0000808 ,  0.743214  , -0.74915635, -1.89045082,  0.28632012,\n",
       "        0.08999631,  0.34687623,  1.07988694,  1.22250428, -0.60828062,\n",
       "       -1.34750839,  1.72002171, -0.44229733, -1.10494285,  0.97516581,\n",
       "       -0.48538532, -2.08988458, -0.1041912 , -0.52361038, -2.06059154])"
      ]
     },
     "execution_count": 87,
     "metadata": {},
     "output_type": "execute_result"
    }
   ],
   "source": [
    "ds=np.random.randn(25)\n",
    "ds"
   ]
  },
  {
   "cell_type": "code",
   "execution_count": 91,
   "metadata": {},
   "outputs": [
    {
     "data": {
      "text/plain": [
       "array([0.01, 0.02, 0.03, 0.04, 0.05, 0.06, 0.07, 0.08, 0.09, 0.1 , 0.11,\n",
       "       0.12, 0.13, 0.14, 0.15, 0.16, 0.17, 0.18, 0.19, 0.2 , 0.21, 0.22,\n",
       "       0.23, 0.24, 0.25, 0.26, 0.27, 0.28, 0.29, 0.3 , 0.31, 0.32, 0.33,\n",
       "       0.34, 0.35, 0.36, 0.37, 0.38, 0.39, 0.4 , 0.41, 0.42, 0.43, 0.44,\n",
       "       0.45, 0.46, 0.47, 0.48, 0.49, 0.5 , 0.51, 0.52, 0.53, 0.54, 0.55,\n",
       "       0.56, 0.57, 0.58, 0.59, 0.6 , 0.61, 0.62, 0.63, 0.64, 0.65, 0.66,\n",
       "       0.67, 0.68, 0.69, 0.7 , 0.71, 0.72, 0.73, 0.74, 0.75, 0.76, 0.77,\n",
       "       0.78, 0.79, 0.8 , 0.81, 0.82, 0.83, 0.84, 0.85, 0.86, 0.87, 0.88,\n",
       "       0.89, 0.9 , 0.91, 0.92, 0.93, 0.94, 0.95, 0.96, 0.97, 0.98, 0.99,\n",
       "       1.  ])"
      ]
     },
     "execution_count": 91,
     "metadata": {},
     "output_type": "execute_result"
    }
   ],
   "source": [
    "np.linspace(0.01,1,100)"
   ]
  },
  {
   "cell_type": "code",
   "execution_count": 92,
   "metadata": {},
   "outputs": [
    {
     "data": {
      "text/plain": [
       "array([0.        , 0.05263158, 0.10526316, 0.15789474, 0.21052632,\n",
       "       0.26315789, 0.31578947, 0.36842105, 0.42105263, 0.47368421,\n",
       "       0.52631579, 0.57894737, 0.63157895, 0.68421053, 0.73684211,\n",
       "       0.78947368, 0.84210526, 0.89473684, 0.94736842, 1.        ])"
      ]
     },
     "execution_count": 92,
     "metadata": {},
     "output_type": "execute_result"
    }
   ],
   "source": [
    "np.linspace(0.,1,20)"
   ]
  },
  {
   "cell_type": "code",
   "execution_count": 96,
   "metadata": {},
   "outputs": [
    {
     "data": {
      "text/plain": [
       "array([[ 1,  2,  3,  4,  5],\n",
       "       [ 6,  7,  8,  9, 10],\n",
       "       [11, 12, 13, 14, 15],\n",
       "       [16, 17, 18, 19, 20],\n",
       "       [21, 22, 23, 24, 25]])"
      ]
     },
     "execution_count": 96,
     "metadata": {},
     "output_type": "execute_result"
    }
   ],
   "source": [
    "e=np.arange(1,26).reshape(5,5)"
   ]
  },
  {
   "cell_type": "code",
   "execution_count": 150,
   "metadata": {},
   "outputs": [
    {
     "ename": "IndexError",
     "evalue": "too many indices for array: array is 2-dimensional, but 3 were indexed",
     "output_type": "error",
     "traceback": [
      "\u001b[1;31m---------------------------------------------------------------------------\u001b[0m",
      "\u001b[1;31mIndexError\u001b[0m                                Traceback (most recent call last)",
      "Cell \u001b[1;32mIn[150], line 2\u001b[0m\n\u001b[0;32m      1\u001b[0m e\u001b[38;5;241m=\u001b[39mnp\u001b[38;5;241m.\u001b[39marange(\u001b[38;5;241m1\u001b[39m,\u001b[38;5;241m26\u001b[39m)\u001b[38;5;241m.\u001b[39mreshape(\u001b[38;5;241m5\u001b[39m,\u001b[38;5;241m5\u001b[39m)\n\u001b[1;32m----> 2\u001b[0m \u001b[38;5;28mprint\u001b[39m(\u001b[43me\u001b[49m\u001b[43m[\u001b[49m\u001b[38;5;241;43m1\u001b[39;49m\u001b[43m,\u001b[49m\u001b[38;5;241;43m2\u001b[39;49m\u001b[43m:\u001b[49m\u001b[43m:\u001b[49m\u001b[38;5;241;43m5\u001b[39;49m\u001b[43m,\u001b[49m\u001b[38;5;241;43m5\u001b[39;49m\u001b[43m]\u001b[49m)\n",
      "\u001b[1;31mIndexError\u001b[0m: too many indices for array: array is 2-dimensional, but 3 were indexed"
     ]
    }
   ],
   "source": [
    "e=np.arange(1,26).reshape(5,5)\n",
    "print(e[1,2::5,5])"
   ]
  },
  {
   "cell_type": "code",
   "execution_count": 107,
   "metadata": {},
   "outputs": [
    {
     "name": "stdout",
     "output_type": "stream",
     "text": [
      "\u001b[1;31mSignature:\u001b[0m       \u001b[0mnp\u001b[0m\u001b[1;33m.\u001b[0m\u001b[0mvstack\u001b[0m\u001b[1;33m(\u001b[0m\u001b[0mtup\u001b[0m\u001b[1;33m,\u001b[0m \u001b[1;33m*\u001b[0m\u001b[1;33m,\u001b[0m \u001b[0mdtype\u001b[0m\u001b[1;33m=\u001b[0m\u001b[1;32mNone\u001b[0m\u001b[1;33m,\u001b[0m \u001b[0mcasting\u001b[0m\u001b[1;33m=\u001b[0m\u001b[1;34m'same_kind'\u001b[0m\u001b[1;33m)\u001b[0m\u001b[1;33m\u001b[0m\u001b[1;33m\u001b[0m\u001b[0m\n",
      "\u001b[1;31mCall signature:\u001b[0m  \u001b[0mnp\u001b[0m\u001b[1;33m.\u001b[0m\u001b[0mvstack\u001b[0m\u001b[1;33m(\u001b[0m\u001b[1;33m*\u001b[0m\u001b[0margs\u001b[0m\u001b[1;33m,\u001b[0m \u001b[1;33m**\u001b[0m\u001b[0mkwargs\u001b[0m\u001b[1;33m)\u001b[0m\u001b[1;33m\u001b[0m\u001b[1;33m\u001b[0m\u001b[0m\n",
      "\u001b[1;31mType:\u001b[0m            _ArrayFunctionDispatcher\n",
      "\u001b[1;31mString form:\u001b[0m     <function vstack at 0x0000011B54618E00>\n",
      "\u001b[1;31mFile:\u001b[0m            c:\\users\\kukad\\appdata\\local\\programs\\python\\python312\\lib\\site-packages\\numpy\\_core\\shape_base.py\n",
      "\u001b[1;31mDocstring:\u001b[0m      \n",
      "Stack arrays in sequence vertically (row wise).\n",
      "\n",
      "This is equivalent to concatenation along the first axis after 1-D arrays\n",
      "of shape `(N,)` have been reshaped to `(1,N)`. Rebuilds arrays divided by\n",
      "`vsplit`.\n",
      "\n",
      "This function makes most sense for arrays with up to 3 dimensions. For\n",
      "instance, for pixel-data with a height (first axis), width (second axis),\n",
      "and r/g/b channels (third axis). The functions `concatenate`, `stack` and\n",
      "`block` provide more general stacking and concatenation operations.\n",
      "\n",
      "Parameters\n",
      "----------\n",
      "tup : sequence of ndarrays\n",
      "    The arrays must have the same shape along all but the first axis.\n",
      "    1-D arrays must have the same length.\n",
      "\n",
      "dtype : str or dtype\n",
      "    If provided, the destination array will have this dtype. Cannot be\n",
      "    provided together with `out`.\n",
      "\n",
      "    .. versionadded:: 1.24\n",
      "\n",
      "casting : {'no', 'equiv', 'safe', 'same_kind', 'unsafe'}, optional\n",
      "    Controls what kind of data casting may occur. Defaults to 'same_kind'.\n",
      "\n",
      "    .. versionadded:: 1.24\n",
      "\n",
      "Returns\n",
      "-------\n",
      "stacked : ndarray\n",
      "    The array formed by stacking the given arrays, will be at least 2-D.\n",
      "\n",
      "See Also\n",
      "--------\n",
      "concatenate : Join a sequence of arrays along an existing axis.\n",
      "stack : Join a sequence of arrays along a new axis.\n",
      "block : Assemble an nd-array from nested lists of blocks.\n",
      "hstack : Stack arrays in sequence horizontally (column wise).\n",
      "dstack : Stack arrays in sequence depth wise (along third axis).\n",
      "column_stack : Stack 1-D arrays as columns into a 2-D array.\n",
      "vsplit : Split an array into multiple sub-arrays vertically (row-wise).\n",
      "\n",
      "Examples\n",
      "--------\n",
      ">>> a = np.array([1, 2, 3])\n",
      ">>> b = np.array([4, 5, 6])\n",
      ">>> np.vstack((a,b))\n",
      "array([[1, 2, 3],\n",
      "       [4, 5, 6]])\n",
      "\n",
      ">>> a = np.array([[1], [2], [3]])\n",
      ">>> b = np.array([[4], [5], [6]])\n",
      ">>> np.vstack((a,b))\n",
      "array([[1],\n",
      "       [2],\n",
      "       [3],\n",
      "       [4],\n",
      "       [5],\n",
      "       [6]])\n",
      "\u001b[1;31mClass docstring:\u001b[0m\n",
      "Class to wrap functions with checks for __array_function__ overrides.\n",
      "\n",
      "All arguments are required, and can only be passed by position.\n",
      "\n",
      "Parameters\n",
      "----------\n",
      "dispatcher : function or None\n",
      "    The dispatcher function that returns a single sequence-like object\n",
      "    of all arguments relevant.  It must have the same signature (except\n",
      "    the default values) as the actual implementation.\n",
      "    If ``None``, this is a ``like=`` dispatcher and the\n",
      "    ``_ArrayFunctionDispatcher`` must be called with ``like`` as the\n",
      "    first (additional and positional) argument.\n",
      "implementation : function\n",
      "    Function that implements the operation on NumPy arrays without\n",
      "    overrides.  Arguments passed calling the ``_ArrayFunctionDispatcher``\n",
      "    will be forwarded to this (and the ``dispatcher``) as if using\n",
      "    ``*args, **kwargs``.\n",
      "\n",
      "Attributes\n",
      "----------\n",
      "_implementation : function\n",
      "    The original implementation passed in."
     ]
    }
   ],
   "source": [
    "np.vstack?"
   ]
  },
  {
   "cell_type": "code",
   "execution_count": 117,
   "metadata": {},
   "outputs": [],
   "source": [
    "#Stack arrays in sequence vertically (row wise)\n",
    "a=np.arange(9,18).reshape(3,3)"
   ]
  },
  {
   "cell_type": "code",
   "execution_count": 149,
   "metadata": {},
   "outputs": [
    {
     "data": {
      "text/plain": [
       "array([[ 9, 10, 11],\n",
       "       [12, 13, 14],\n",
       "       [15, 16, 17],\n",
       "       [ 1,  2,  3]])"
      ]
     },
     "execution_count": 149,
     "metadata": {},
     "output_type": "execute_result"
    }
   ],
   "source": [
    "np.vstack((a,ap))"
   ]
  },
  {
   "cell_type": "code",
   "execution_count": 146,
   "metadata": {},
   "outputs": [
    {
     "data": {
      "text/plain": [
       "array([[ 9, 10, 11,  1],\n",
       "       [12, 13, 14,  2],\n",
       "       [15, 16, 17,  3]])"
      ]
     },
     "execution_count": 146,
     "metadata": {},
     "output_type": "execute_result"
    }
   ],
   "source": [
    "np.hstack((a,ad))"
   ]
  },
  {
   "cell_type": "code",
   "execution_count": 144,
   "metadata": {},
   "outputs": [],
   "source": [
    "ad=np.arange(1,4)\n",
    "ad=ad[:,np.newaxis]"
   ]
  },
  {
   "cell_type": "code",
   "execution_count": 148,
   "metadata": {},
   "outputs": [],
   "source": [
    "ap=np.arange(1,4)\n"
   ]
  },
  {
   "cell_type": "code",
   "execution_count": 151,
   "metadata": {},
   "outputs": [
    {
     "name": "stdout",
     "output_type": "stream",
     "text": [
      "\u001b[1;31mSignature:\u001b[0m       \u001b[0mnp\u001b[0m\u001b[1;33m.\u001b[0m\u001b[0mvsplit\u001b[0m\u001b[1;33m(\u001b[0m\u001b[0mary\u001b[0m\u001b[1;33m,\u001b[0m \u001b[0mindices_or_sections\u001b[0m\u001b[1;33m)\u001b[0m\u001b[1;33m\u001b[0m\u001b[1;33m\u001b[0m\u001b[0m\n",
      "\u001b[1;31mCall signature:\u001b[0m  \u001b[0mnp\u001b[0m\u001b[1;33m.\u001b[0m\u001b[0mvsplit\u001b[0m\u001b[1;33m(\u001b[0m\u001b[1;33m*\u001b[0m\u001b[0margs\u001b[0m\u001b[1;33m,\u001b[0m \u001b[1;33m**\u001b[0m\u001b[0mkwargs\u001b[0m\u001b[1;33m)\u001b[0m\u001b[1;33m\u001b[0m\u001b[1;33m\u001b[0m\u001b[0m\n",
      "\u001b[1;31mType:\u001b[0m            _ArrayFunctionDispatcher\n",
      "\u001b[1;31mString form:\u001b[0m     <function vsplit at 0x0000011B54745D00>\n",
      "\u001b[1;31mFile:\u001b[0m            c:\\users\\kukad\\appdata\\local\\programs\\python\\python312\\lib\\site-packages\\numpy\\lib\\_shape_base_impl.py\n",
      "\u001b[1;31mDocstring:\u001b[0m      \n",
      "Split an array into multiple sub-arrays vertically (row-wise).\n",
      "\n",
      "Please refer to the ``split`` documentation.  ``vsplit`` is equivalent\n",
      "to ``split`` with `axis=0` (default), the array is always split along the\n",
      "first axis regardless of the array dimension.\n",
      "\n",
      "See Also\n",
      "--------\n",
      "split : Split an array into multiple sub-arrays of equal size.\n",
      "\n",
      "Examples\n",
      "--------\n",
      ">>> x = np.arange(16.0).reshape(4, 4)\n",
      ">>> x\n",
      "array([[ 0.,   1.,   2.,   3.],\n",
      "       [ 4.,   5.,   6.,   7.],\n",
      "       [ 8.,   9.,  10.,  11.],\n",
      "       [12.,  13.,  14.,  15.]])\n",
      ">>> np.vsplit(x, 2)\n",
      "[array([[0., 1., 2., 3.],\n",
      "        [4., 5., 6., 7.]]),\n",
      " array([[ 8.,  9., 10., 11.],\n",
      "        [12., 13., 14., 15.]])]\n",
      ">>> np.vsplit(x, np.array([3, 6]))\n",
      "[array([[ 0.,  1.,  2.,  3.],\n",
      "        [ 4.,  5.,  6.,  7.],\n",
      "        [ 8.,  9., 10., 11.]]),\n",
      " array([[12., 13., 14., 15.]]),\n",
      " array([], shape=(0, 4), dtype=float64)]\n",
      "\n",
      "With a higher dimensional array the split is still along the first axis.\n",
      "\n",
      ">>> x = np.arange(8.0).reshape(2, 2, 2)\n",
      ">>> x\n",
      "array([[[0.,  1.],\n",
      "        [2.,  3.]],\n",
      "       [[4.,  5.],\n",
      "        [6.,  7.]]])\n",
      ">>> np.vsplit(x, 2)\n",
      "[array([[[0., 1.],\n",
      "         [2., 3.]]]),\n",
      " array([[[4., 5.],\n",
      "         [6., 7.]]])]\n",
      "\u001b[1;31mClass docstring:\u001b[0m\n",
      "Class to wrap functions with checks for __array_function__ overrides.\n",
      "\n",
      "All arguments are required, and can only be passed by position.\n",
      "\n",
      "Parameters\n",
      "----------\n",
      "dispatcher : function or None\n",
      "    The dispatcher function that returns a single sequence-like object\n",
      "    of all arguments relevant.  It must have the same signature (except\n",
      "    the default values) as the actual implementation.\n",
      "    If ``None``, this is a ``like=`` dispatcher and the\n",
      "    ``_ArrayFunctionDispatcher`` must be called with ``like`` as the\n",
      "    first (additional and positional) argument.\n",
      "implementation : function\n",
      "    Function that implements the operation on NumPy arrays without\n",
      "    overrides.  Arguments passed calling the ``_ArrayFunctionDispatcher``\n",
      "    will be forwarded to this (and the ``dispatcher``) as if using\n",
      "    ``*args, **kwargs``.\n",
      "\n",
      "Attributes\n",
      "----------\n",
      "_implementation : function\n",
      "    The original implementation passed in."
     ]
    }
   ],
   "source": [
    "np.split?\n"
   ]
  },
  {
   "cell_type": "code",
   "execution_count": 153,
   "metadata": {},
   "outputs": [
    {
     "name": "stdout",
     "output_type": "stream",
     "text": [
      "\u001b[1;31mSignature:\u001b[0m       \u001b[0mnp\u001b[0m\u001b[1;33m.\u001b[0m\u001b[0mhsplit\u001b[0m\u001b[1;33m(\u001b[0m\u001b[0mary\u001b[0m\u001b[1;33m,\u001b[0m \u001b[0mindices_or_sections\u001b[0m\u001b[1;33m)\u001b[0m\u001b[1;33m\u001b[0m\u001b[1;33m\u001b[0m\u001b[0m\n",
      "\u001b[1;31mCall signature:\u001b[0m  \u001b[0mnp\u001b[0m\u001b[1;33m.\u001b[0m\u001b[0mhsplit\u001b[0m\u001b[1;33m(\u001b[0m\u001b[1;33m*\u001b[0m\u001b[0margs\u001b[0m\u001b[1;33m,\u001b[0m \u001b[1;33m**\u001b[0m\u001b[0mkwargs\u001b[0m\u001b[1;33m)\u001b[0m\u001b[1;33m\u001b[0m\u001b[1;33m\u001b[0m\u001b[0m\n",
      "\u001b[1;31mType:\u001b[0m            _ArrayFunctionDispatcher\n",
      "\u001b[1;31mString form:\u001b[0m     <function hsplit at 0x0000011B54745C60>\n",
      "\u001b[1;31mFile:\u001b[0m            c:\\users\\kukad\\appdata\\local\\programs\\python\\python312\\lib\\site-packages\\numpy\\lib\\_shape_base_impl.py\n",
      "\u001b[1;31mDocstring:\u001b[0m      \n",
      "Split an array into multiple sub-arrays horizontally (column-wise).\n",
      "\n",
      "Please refer to the `split` documentation.  `hsplit` is equivalent\n",
      "to `split` with ``axis=1``, the array is always split along the second\n",
      "axis except for 1-D arrays, where it is split at ``axis=0``.\n",
      "\n",
      "See Also\n",
      "--------\n",
      "split : Split an array into multiple sub-arrays of equal size.\n",
      "\n",
      "Examples\n",
      "--------\n",
      ">>> x = np.arange(16.0).reshape(4, 4)\n",
      ">>> x\n",
      "array([[ 0.,   1.,   2.,   3.],\n",
      "       [ 4.,   5.,   6.,   7.],\n",
      "       [ 8.,   9.,  10.,  11.],\n",
      "       [12.,  13.,  14.,  15.]])\n",
      ">>> np.hsplit(x, 2)\n",
      "[array([[  0.,   1.],\n",
      "       [  4.,   5.],\n",
      "       [  8.,   9.],\n",
      "       [12.,  13.]]),\n",
      " array([[  2.,   3.],\n",
      "       [  6.,   7.],\n",
      "       [10.,  11.],\n",
      "       [14.,  15.]])]\n",
      ">>> np.hsplit(x, np.array([3, 6]))\n",
      "[array([[ 0.,   1.,   2.],\n",
      "       [ 4.,   5.,   6.],\n",
      "       [ 8.,   9.,  10.],\n",
      "       [12.,  13.,  14.]]),\n",
      " array([[ 3.],\n",
      "       [ 7.],\n",
      "       [11.],\n",
      "       [15.]]),\n",
      " array([], shape=(4, 0), dtype=float64)]\n",
      "\n",
      "With a higher dimensional array the split is still along the second axis.\n",
      "\n",
      ">>> x = np.arange(8.0).reshape(2, 2, 2)\n",
      ">>> x\n",
      "array([[[0.,  1.],\n",
      "        [2.,  3.]],\n",
      "       [[4.,  5.],\n",
      "        [6.,  7.]]])\n",
      ">>> np.hsplit(x, 2)\n",
      "[array([[[0.,  1.]],\n",
      "       [[4.,  5.]]]),\n",
      " array([[[2.,  3.]],\n",
      "       [[6.,  7.]]])]\n",
      "\n",
      "With a 1-D array, the split is along axis 0.\n",
      "\n",
      ">>> x = np.array([0, 1, 2, 3, 4, 5])\n",
      ">>> np.hsplit(x, 2)\n",
      "[array([0, 1, 2]), array([3, 4, 5])]\n",
      "\u001b[1;31mClass docstring:\u001b[0m\n",
      "Class to wrap functions with checks for __array_function__ overrides.\n",
      "\n",
      "All arguments are required, and can only be passed by position.\n",
      "\n",
      "Parameters\n",
      "----------\n",
      "dispatcher : function or None\n",
      "    The dispatcher function that returns a single sequence-like object\n",
      "    of all arguments relevant.  It must have the same signature (except\n",
      "    the default values) as the actual implementation.\n",
      "    If ``None``, this is a ``like=`` dispatcher and the\n",
      "    ``_ArrayFunctionDispatcher`` must be called with ``like`` as the\n",
      "    first (additional and positional) argument.\n",
      "implementation : function\n",
      "    Function that implements the operation on NumPy arrays without\n",
      "    overrides.  Arguments passed calling the ``_ArrayFunctionDispatcher``\n",
      "    will be forwarded to this (and the ``dispatcher``) as if using\n",
      "    ``*args, **kwargs``.\n",
      "\n",
      "Attributes\n",
      "----------\n",
      "_implementation : function\n",
      "    The original implementation passed in."
     ]
    }
   ],
   "source": [
    "np.hsplit?"
   ]
  },
  {
   "cell_type": "code",
   "execution_count": 155,
   "metadata": {},
   "outputs": [
    {
     "name": "stdout",
     "output_type": "stream",
     "text": [
      "\u001b[1;31mSignature:\u001b[0m       \u001b[0mnp\u001b[0m\u001b[1;33m.\u001b[0m\u001b[0mvsplit\u001b[0m\u001b[1;33m(\u001b[0m\u001b[0mary\u001b[0m\u001b[1;33m,\u001b[0m \u001b[0mindices_or_sections\u001b[0m\u001b[1;33m)\u001b[0m\u001b[1;33m\u001b[0m\u001b[1;33m\u001b[0m\u001b[0m\n",
      "\u001b[1;31mCall signature:\u001b[0m  \u001b[0mnp\u001b[0m\u001b[1;33m.\u001b[0m\u001b[0mvsplit\u001b[0m\u001b[1;33m(\u001b[0m\u001b[1;33m*\u001b[0m\u001b[0margs\u001b[0m\u001b[1;33m,\u001b[0m \u001b[1;33m**\u001b[0m\u001b[0mkwargs\u001b[0m\u001b[1;33m)\u001b[0m\u001b[1;33m\u001b[0m\u001b[1;33m\u001b[0m\u001b[0m\n",
      "\u001b[1;31mType:\u001b[0m            _ArrayFunctionDispatcher\n",
      "\u001b[1;31mString form:\u001b[0m     <function vsplit at 0x0000011B54745D00>\n",
      "\u001b[1;31mFile:\u001b[0m            c:\\users\\kukad\\appdata\\local\\programs\\python\\python312\\lib\\site-packages\\numpy\\lib\\_shape_base_impl.py\n",
      "\u001b[1;31mDocstring:\u001b[0m      \n",
      "Split an array into multiple sub-arrays vertically (row-wise).\n",
      "\n",
      "Please refer to the ``split`` documentation.  ``vsplit`` is equivalent\n",
      "to ``split`` with `axis=0` (default), the array is always split along the\n",
      "first axis regardless of the array dimension.\n",
      "\n",
      "See Also\n",
      "--------\n",
      "split : Split an array into multiple sub-arrays of equal size.\n",
      "\n",
      "Examples\n",
      "--------\n",
      ">>> x = np.arange(16.0).reshape(4, 4)\n",
      ">>> x\n",
      "array([[ 0.,   1.,   2.,   3.],\n",
      "       [ 4.,   5.,   6.,   7.],\n",
      "       [ 8.,   9.,  10.,  11.],\n",
      "       [12.,  13.,  14.,  15.]])\n",
      ">>> np.vsplit(x, 2)\n",
      "[array([[0., 1., 2., 3.],\n",
      "        [4., 5., 6., 7.]]),\n",
      " array([[ 8.,  9., 10., 11.],\n",
      "        [12., 13., 14., 15.]])]\n",
      ">>> np.vsplit(x, np.array([3, 6]))\n",
      "[array([[ 0.,  1.,  2.,  3.],\n",
      "        [ 4.,  5.,  6.,  7.],\n",
      "        [ 8.,  9., 10., 11.]]),\n",
      " array([[12., 13., 14., 15.]]),\n",
      " array([], shape=(0, 4), dtype=float64)]\n",
      "\n",
      "With a higher dimensional array the split is still along the first axis.\n",
      "\n",
      ">>> x = np.arange(8.0).reshape(2, 2, 2)\n",
      ">>> x\n",
      "array([[[0.,  1.],\n",
      "        [2.,  3.]],\n",
      "       [[4.,  5.],\n",
      "        [6.,  7.]]])\n",
      ">>> np.vsplit(x, 2)\n",
      "[array([[[0., 1.],\n",
      "         [2., 3.]]]),\n",
      " array([[[4., 5.],\n",
      "         [6., 7.]]])]\n",
      "\u001b[1;31mClass docstring:\u001b[0m\n",
      "Class to wrap functions with checks for __array_function__ overrides.\n",
      "\n",
      "All arguments are required, and can only be passed by position.\n",
      "\n",
      "Parameters\n",
      "----------\n",
      "dispatcher : function or None\n",
      "    The dispatcher function that returns a single sequence-like object\n",
      "    of all arguments relevant.  It must have the same signature (except\n",
      "    the default values) as the actual implementation.\n",
      "    If ``None``, this is a ``like=`` dispatcher and the\n",
      "    ``_ArrayFunctionDispatcher`` must be called with ``like`` as the\n",
      "    first (additional and positional) argument.\n",
      "implementation : function\n",
      "    Function that implements the operation on NumPy arrays without\n",
      "    overrides.  Arguments passed calling the ``_ArrayFunctionDispatcher``\n",
      "    will be forwarded to this (and the ``dispatcher``) as if using\n",
      "    ``*args, **kwargs``.\n",
      "\n",
      "Attributes\n",
      "----------\n",
      "_implementation : function\n",
      "    The original implementation passed in."
     ]
    }
   ],
   "source": [
    "np.vsplit?"
   ]
  },
  {
   "cell_type": "code",
   "execution_count": 156,
   "metadata": {},
   "outputs": [
    {
     "name": "stdout",
     "output_type": "stream",
     "text": [
      "\u001b[1;31mSignature:\u001b[0m       \u001b[0mnp\u001b[0m\u001b[1;33m.\u001b[0m\u001b[0mdsplit\u001b[0m\u001b[1;33m(\u001b[0m\u001b[0mary\u001b[0m\u001b[1;33m,\u001b[0m \u001b[0mindices_or_sections\u001b[0m\u001b[1;33m)\u001b[0m\u001b[1;33m\u001b[0m\u001b[1;33m\u001b[0m\u001b[0m\n",
      "\u001b[1;31mCall signature:\u001b[0m  \u001b[0mnp\u001b[0m\u001b[1;33m.\u001b[0m\u001b[0mdsplit\u001b[0m\u001b[1;33m(\u001b[0m\u001b[1;33m*\u001b[0m\u001b[0margs\u001b[0m\u001b[1;33m,\u001b[0m \u001b[1;33m**\u001b[0m\u001b[0mkwargs\u001b[0m\u001b[1;33m)\u001b[0m\u001b[1;33m\u001b[0m\u001b[1;33m\u001b[0m\u001b[0m\n",
      "\u001b[1;31mType:\u001b[0m            _ArrayFunctionDispatcher\n",
      "\u001b[1;31mString form:\u001b[0m     <function dsplit at 0x0000011B54745DA0>\n",
      "\u001b[1;31mFile:\u001b[0m            c:\\users\\kukad\\appdata\\local\\programs\\python\\python312\\lib\\site-packages\\numpy\\lib\\_shape_base_impl.py\n",
      "\u001b[1;31mDocstring:\u001b[0m      \n",
      "Split array into multiple sub-arrays along the 3rd axis (depth).\n",
      "\n",
      "Please refer to the `split` documentation.  `dsplit` is equivalent\n",
      "to `split` with ``axis=2``, the array is always split along the third\n",
      "axis provided the array dimension is greater than or equal to 3.\n",
      "\n",
      "See Also\n",
      "--------\n",
      "split : Split an array into multiple sub-arrays of equal size.\n",
      "\n",
      "Examples\n",
      "--------\n",
      ">>> x = np.arange(16.0).reshape(2, 2, 4)\n",
      ">>> x\n",
      "array([[[ 0.,   1.,   2.,   3.],\n",
      "        [ 4.,   5.,   6.,   7.]],\n",
      "       [[ 8.,   9.,  10.,  11.],\n",
      "        [12.,  13.,  14.,  15.]]])\n",
      ">>> np.dsplit(x, 2)\n",
      "[array([[[ 0.,  1.],\n",
      "        [ 4.,  5.]],\n",
      "       [[ 8.,  9.],\n",
      "        [12., 13.]]]), array([[[ 2.,  3.],\n",
      "        [ 6.,  7.]],\n",
      "       [[10., 11.],\n",
      "        [14., 15.]]])]\n",
      ">>> np.dsplit(x, np.array([3, 6]))\n",
      "[array([[[ 0.,   1.,   2.],\n",
      "        [ 4.,   5.,   6.]],\n",
      "       [[ 8.,   9.,  10.],\n",
      "        [12.,  13.,  14.]]]),\n",
      " array([[[ 3.],\n",
      "        [ 7.]],\n",
      "       [[11.],\n",
      "        [15.]]]),\n",
      "array([], shape=(2, 2, 0), dtype=float64)]\n",
      "\u001b[1;31mClass docstring:\u001b[0m\n",
      "Class to wrap functions with checks for __array_function__ overrides.\n",
      "\n",
      "All arguments are required, and can only be passed by position.\n",
      "\n",
      "Parameters\n",
      "----------\n",
      "dispatcher : function or None\n",
      "    The dispatcher function that returns a single sequence-like object\n",
      "    of all arguments relevant.  It must have the same signature (except\n",
      "    the default values) as the actual implementation.\n",
      "    If ``None``, this is a ``like=`` dispatcher and the\n",
      "    ``_ArrayFunctionDispatcher`` must be called with ``like`` as the\n",
      "    first (additional and positional) argument.\n",
      "implementation : function\n",
      "    Function that implements the operation on NumPy arrays without\n",
      "    overrides.  Arguments passed calling the ``_ArrayFunctionDispatcher``\n",
      "    will be forwarded to this (and the ``dispatcher``) as if using\n",
      "    ``*args, **kwargs``.\n",
      "\n",
      "Attributes\n",
      "----------\n",
      "_implementation : function\n",
      "    The original implementation passed in."
     ]
    }
   ],
   "source": [
    "np.dsplit?"
   ]
  },
  {
   "cell_type": "code",
   "execution_count": 168,
   "metadata": {},
   "outputs": [
    {
     "data": {
      "text/plain": [
       "array([1, 2, 3, 4, 5, 6])"
      ]
     },
     "execution_count": 168,
     "metadata": {},
     "output_type": "execute_result"
    }
   ],
   "source": [
    "A=np.array([1,2,3,4,5,6])\n",
    "A"
   ]
  },
  {
   "cell_type": "code",
   "execution_count": 190,
   "metadata": {},
   "outputs": [
    {
     "data": {
      "text/plain": [
       "[array([1, 2]), array([3, 4]), array([5, 6])]"
      ]
     },
     "execution_count": 190,
     "metadata": {},
     "output_type": "execute_result"
    }
   ],
   "source": [
    "#Number split in a range \n",
    "np.split(A,[2,4])"
   ]
  },
  {
   "cell_type": "code",
   "execution_count": 192,
   "metadata": {},
   "outputs": [
    {
     "data": {
      "text/plain": [
       "[array([[ 9, 10, 11]]), array([[12, 13, 14]]), array([[15, 16, 17]])]"
      ]
     },
     "execution_count": 192,
     "metadata": {},
     "output_type": "execute_result"
    }
   ],
   "source": [
    "np.vsplit(a,[1,2])"
   ]
  },
  {
   "cell_type": "code",
   "execution_count": 193,
   "metadata": {},
   "outputs": [
    {
     "data": {
      "text/plain": [
       "[array([[ 9],\n",
       "        [12],\n",
       "        [15]]),\n",
       " array([[10],\n",
       "        [13],\n",
       "        [16]]),\n",
       " array([[11],\n",
       "        [14],\n",
       "        [17]])]"
      ]
     },
     "execution_count": 193,
     "metadata": {},
     "output_type": "execute_result"
    }
   ],
   "source": [
    "np.hsplit(a,[1,2])"
   ]
  },
  {
   "cell_type": "code",
   "execution_count": 197,
   "metadata": {},
   "outputs": [
    {
     "data": {
      "text/plain": [
       "array([[[ 1,  2,  3],\n",
       "        [ 4,  5,  6],\n",
       "        [ 7,  8,  9]],\n",
       "\n",
       "       [[10, 11, 12],\n",
       "        [13, 14, 15],\n",
       "        [16, 17, 18]],\n",
       "\n",
       "       [[19, 20, 21],\n",
       "        [22, 23, 24],\n",
       "        [25, 26, 27]]])"
      ]
     },
     "execution_count": 197,
     "metadata": {},
     "output_type": "execute_result"
    }
   ],
   "source": [
    "t=np.arange(1,28).reshape(3,3,3)\n",
    "t"
   ]
  },
  {
   "cell_type": "code",
   "execution_count": 198,
   "metadata": {},
   "outputs": [
    {
     "data": {
      "text/plain": [
       "[array([[[ 1],\n",
       "         [ 4],\n",
       "         [ 7]],\n",
       " \n",
       "        [[10],\n",
       "         [13],\n",
       "         [16]],\n",
       " \n",
       "        [[19],\n",
       "         [22],\n",
       "         [25]]]),\n",
       " array([[[ 2],\n",
       "         [ 5],\n",
       "         [ 8]],\n",
       " \n",
       "        [[11],\n",
       "         [14],\n",
       "         [17]],\n",
       " \n",
       "        [[20],\n",
       "         [23],\n",
       "         [26]]]),\n",
       " array([[[ 3],\n",
       "         [ 6],\n",
       "         [ 9]],\n",
       " \n",
       "        [[12],\n",
       "         [15],\n",
       "         [18]],\n",
       " \n",
       "        [[21],\n",
       "         [24],\n",
       "         [27]]])]"
      ]
     },
     "execution_count": 198,
     "metadata": {},
     "output_type": "execute_result"
    }
   ],
   "source": [
    "np.dsplit(t,3)"
   ]
  },
  {
   "cell_type": "code",
   "execution_count": null,
   "metadata": {},
   "outputs": [],
   "source": []
  }
 ],
 "metadata": {
  "kernelspec": {
   "display_name": "Python 3",
   "language": "python",
   "name": "python3"
  },
  "language_info": {
   "codemirror_mode": {
    "name": "ipython",
    "version": 3
   },
   "file_extension": ".py",
   "mimetype": "text/x-python",
   "name": "python",
   "nbconvert_exporter": "python",
   "pygments_lexer": "ipython3",
   "version": "3.12.2"
  }
 },
 "nbformat": 4,
 "nbformat_minor": 2
}
