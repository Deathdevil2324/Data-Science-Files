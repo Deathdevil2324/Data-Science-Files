{
 "cells": [
  {
   "cell_type": "code",
   "execution_count": 1,
   "id": "7033b725",
   "metadata": {},
   "outputs": [],
   "source": [
    "import pandas as pd"
   ]
  },
  {
   "cell_type": "code",
   "execution_count": 2,
   "id": "6bce5162",
   "metadata": {},
   "outputs": [],
   "source": [
    "import numpy as np"
   ]
  },
  {
   "cell_type": "code",
   "execution_count": 21,
   "id": "7a54a1a0",
   "metadata": {},
   "outputs": [
    {
     "name": "stdout",
     "output_type": "stream",
     "text": [
      "              Sales          Expenses         \n",
      "             Online In-Store   Online In-Store\n",
      "Year Quarter                                  \n",
      "2021 Q1       10000    20000     5000     8000\n",
      "     Q2       15000    25000     7000    10000\n",
      "     Q3       20000    22000     9000    11000\n",
      "     Q4       25000    27000    10000    12000\n",
      "2022 Q1       30000    28000    12000    13000\n",
      "     Q2       35000    32000    13000    14000\n",
      "     Q3       40000    35000    14000    15000\n",
      "     Q4       45000    40000    15000    16000\n"
     ]
    }
   ],
   "source": [
    "# Q1) Create a DataFrame named financial_data that contains quarterly financial metrics for the years 2021 and 2022. The metrics\n",
    "#     include \"Sales\" and \"Expenses,\" which are further divided into \"Online\" and \"In-Store\" channels.\n",
    "\n",
    "# Creating a multi-level column DataFrame for financial data\n",
    "data = {\n",
    "    ('Sales', 'Online'): [10000, 15000, 20000, 25000, 30000, 35000, 40000, 45000],\n",
    "    ('Sales', 'In-Store'): [20000, 25000, 22000, 27000, 28000, 32000, 35000, 40000],\n",
    "    ('Expenses', 'Online'): [5000, 7000, 9000, 10000, 12000, 13000, 14000, 15000],\n",
    "    ('Expenses', 'In-Store'): [8000, 10000, 11000, 12000, 13000, 14000, 15000, 16000],\n",
    "}\n",
    "\n",
    "# Index for quarters and years\n",
    "index = pd.MultiIndex.from_tuples(\n",
    "    [('2021', 'Q1'), ('2021', 'Q2'), ('2021', 'Q3'), ('2021', 'Q4'),\n",
    "     ('2022', 'Q1'), ('2022', 'Q2'), ('2022', 'Q3'), ('2022', 'Q4')],\n",
    "    names=['Year', 'Quarter']\n",
    ")\n",
    "\n",
    "# Creating DataFrame\n",
    "financial_data = pd.DataFrame(data, index=index)\n",
    "\n",
    "# Display the DataFrame\n",
    "print(financial_data)\n"
   ]
  },
  {
   "cell_type": "code",
   "execution_count": 22,
   "id": "e52a72fe",
   "metadata": {},
   "outputs": [
    {
     "name": "stdout",
     "output_type": "stream",
     "text": [
      "30000\n"
     ]
    }
   ],
   "source": [
    "# a) What are the online sales for Q1 2022?\n",
    "\n",
    "online_sales_q1_2022 = financial_data.loc[('2022', 'Q1'), ('Sales', 'Online')]\n",
    "print(online_sales_q1_2022)"
   ]
  },
  {
   "cell_type": "code",
   "execution_count": 23,
   "id": "615bec6b",
   "metadata": {},
   "outputs": [
    {
     "name": "stdout",
     "output_type": "stream",
     "text": [
      "11000\n"
     ]
    }
   ],
   "source": [
    "# b) How much were the in-store expenses in Q3 2021?\n",
    "\n",
    "in_store_expenses_q3_2021 = financial_data.loc[('2021', 'Q3'), ('Expenses', 'In-Store')]\n",
    "print(in_store_expenses_q3_2021)"
   ]
  },
  {
   "cell_type": "code",
   "execution_count": 24,
   "id": "df193c53",
   "metadata": {},
   "outputs": [
    {
     "name": "stdout",
     "output_type": "stream",
     "text": [
      "52000\n"
     ]
    }
   ],
   "source": [
    "# c) What are the total sales for Q4 2021?\n",
    "\n",
    "total_sales_q4_2021 = financial_data.loc[('2021', 'Q4'), [('Sales', 'Online'), ('Sales', 'In-Store')]].sum()\n",
    "print(total_sales_q4_2021)"
   ]
  },
  {
   "cell_type": "code",
   "execution_count": 25,
   "id": "8286d3aa",
   "metadata": {},
   "outputs": [
    {
     "name": "stdout",
     "output_type": "stream",
     "text": [
      "54000\n"
     ]
    }
   ],
   "source": [
    "# d) What were the expenses for the online channel in 2022?\n",
    "\n",
    "online_expenses_2022 = financial_data.loc['2022', ('Expenses', 'Online')].sum()\n",
    "print(online_expenses_2022)"
   ]
  },
  {
   "cell_type": "code",
   "execution_count": 27,
   "id": "75b9ddaa",
   "metadata": {},
   "outputs": [
    {
     "name": "stdout",
     "output_type": "stream",
     "text": [
      "Sales  Online      15000\n",
      "       In-Store    25000\n",
      "Name: (2021, Q2), dtype: int64\n"
     ]
    }
   ],
   "source": [
    "# e) Retrieve sales data for Q2 2021.\n",
    "\n",
    "sales_q2_2021 = financial_data.loc[('2021', 'Q2'), [('Sales', 'Online'), ('Sales', 'In-Store')]]\n",
    "print(sales_q2_2021)"
   ]
  },
  {
   "cell_type": "code",
   "execution_count": 28,
   "id": "a60bab06",
   "metadata": {},
   "outputs": [
    {
     "name": "stdout",
     "output_type": "stream",
     "text": [
      "16000\n"
     ]
    }
   ],
   "source": [
    "# f) What is the maximum expense recorded in 2022?\n",
    "\n",
    "max_expense_2022 = financial_data.loc['2022', [('Expenses', 'Online'), ('Expenses', 'In-Store')]].max().max()\n",
    "print(max_expense_2022)"
   ]
  },
  {
   "cell_type": "code",
   "execution_count": 29,
   "id": "8fa3e5e6",
   "metadata": {},
   "outputs": [
    {
     "name": "stdout",
     "output_type": "stream",
     "text": [
      "Store    Product         \n",
      "Store A  Product X  Sales    500\n",
      "         Product Y  Sales    600\n",
      "Store B  Product X  Sales    700\n",
      "         Product Y  Sales    800\n",
      "dtype: int64\n"
     ]
    }
   ],
   "source": [
    "# Q2 Stack a DataFrame of Store, Product, and Sales.\n",
    "\n",
    "# Sample DataFrame for Store, Product, and Sales\n",
    "data = {\n",
    "    'Store': ['Store A', 'Store A', 'Store B', 'Store B'],\n",
    "    'Product': ['Product X', 'Product Y', 'Product X', 'Product Y'],\n",
    "    'Sales': [500, 600, 700, 800]\n",
    "}\n",
    "\n",
    "df = pd.DataFrame(data)\n",
    "\n",
    "# Setting multi-index\n",
    "df = df.set_index(['Store', 'Product'])\n",
    "\n",
    "# Stacking the DataFrame\n",
    "stacked_df = df.stack()\n",
    "print(stacked_df)"
   ]
  },
  {
   "cell_type": "code",
   "execution_count": 30,
   "id": "c829bff1",
   "metadata": {},
   "outputs": [
    {
     "name": "stdout",
     "output_type": "stream",
     "text": [
      "Store            Store A  Store B\n",
      "Product                          \n",
      "Product X Sales      500      700\n",
      "Product Y Sales      600      800\n"
     ]
    }
   ],
   "source": [
    "# Q3 Unstack it to show sales by store.\n",
    "\n",
    "# Unstacking the previous stacked DataFrame\n",
    "unstacked_df = stacked_df.unstack(level=0)\n",
    "print(unstacked_df)"
   ]
  },
  {
   "cell_type": "code",
   "execution_count": 31,
   "id": "7205fa3b",
   "metadata": {},
   "outputs": [
    {
     "name": "stdout",
     "output_type": "stream",
     "text": [
      "                      Employee\n",
      "Department  Role              \n",
      "HR          Manager      Alice\n",
      "Engineering Developer      Bob\n",
      "            Developer  Charlie\n",
      "HR          Assistant    David\n"
     ]
    }
   ],
   "source": [
    "# Q4 Create a multi-index with Department and Role\n",
    "\n",
    "# Sample DataFrame with Department and Role\n",
    "data = {\n",
    "    'Employee': ['Alice', 'Bob', 'Charlie', 'David'],\n",
    "    'Department': ['HR', 'Engineering', 'Engineering', 'HR'],\n",
    "    'Role': ['Manager', 'Developer', 'Developer', 'Assistant']\n",
    "}\n",
    "\n",
    "df = pd.DataFrame(data)\n",
    "\n",
    "# Setting multi-index\n",
    "df.set_index(['Department', 'Role'], inplace=True)\n",
    "print(df)"
   ]
  },
  {
   "cell_type": "code",
   "execution_count": 32,
   "id": "998e6f27",
   "metadata": {},
   "outputs": [
    {
     "name": "stdout",
     "output_type": "stream",
     "text": [
      "          Employee\n",
      "Role              \n",
      "Developer      Bob\n",
      "Developer  Charlie\n"
     ]
    }
   ],
   "source": [
    "# Q5 Access employees from a specific department.\n",
    "\n",
    "# Accessing employees from the 'Engineering' department\n",
    "engineering_employees = df.loc['Engineering']\n",
    "print(engineering_employees)"
   ]
  },
  {
   "cell_type": "code",
   "execution_count": 33,
   "id": "a4b0a445",
   "metadata": {},
   "outputs": [
    {
     "name": "stdout",
     "output_type": "stream",
     "text": [
      "  Student  Subject  Grade\n",
      "2   Peter  History     85\n",
      "3   Linda  History     80\n",
      "1    Anna     Math     95\n",
      "0    John     Math     90\n"
     ]
    }
   ],
   "source": [
    "# Q6 Sort a DataFrame of student grades by Subject and Grade\n",
    "\n",
    "# Sample DataFrame with student grades\n",
    "data = {\n",
    "    'Student': ['John', 'Anna', 'Peter', 'Linda'],\n",
    "    'Subject': ['Math', 'Math', 'History', 'History'],\n",
    "    'Grade': [90, 95, 85, 80]\n",
    "}\n",
    "\n",
    "df = pd.DataFrame(data)\n",
    "\n",
    "# Sorting by Subject and Grade\n",
    "sorted_grades = df.sort_values(by=['Subject', 'Grade'], ascending=[True, False])\n",
    "print(sorted_grades)\n"
   ]
  },
  {
   "cell_type": "code",
   "execution_count": 34,
   "id": "1aa30448",
   "metadata": {},
   "outputs": [
    {
     "name": "stdout",
     "output_type": "stream",
     "text": [
      "  Student  Subject  Grade\n",
      "0   Peter  History     85\n",
      "1   Linda  History     80\n",
      "2    Anna     Math     95\n",
      "3    John     Math     90\n"
     ]
    }
   ],
   "source": [
    "# Q7 Reset the index of the sorted grades.\n",
    "\n",
    "# Resetting the index\n",
    "reset_grades = sorted_grades.reset_index(drop=True)\n",
    "print(reset_grades)"
   ]
  },
  {
   "cell_type": "code",
   "execution_count": 35,
   "id": "f71ccbce",
   "metadata": {},
   "outputs": [
    {
     "name": "stdout",
     "output_type": "stream",
     "text": [
      "            Temperature  Humidity\n",
      "Date                             \n",
      "2021-06-01           30        80\n",
      "2021-06-02           32        85\n",
      "2021-06-03           33        90\n"
     ]
    }
   ],
   "source": [
    "# Q8 Set the Date column as the index in a weather DataFrame.\n",
    "\n",
    "# Sample weather DataFrame\n",
    "data = {\n",
    "    'Date': ['2021-06-01', '2021-06-02', '2021-06-03'],\n",
    "    'Temperature': [30, 32, 33],\n",
    "    'Humidity': [80, 85, 90]\n",
    "}\n",
    "\n",
    "df = pd.DataFrame(data)\n",
    "\n",
    "# Setting the Date column as the index\n",
    "df['Date'] = pd.to_datetime(df['Date'])\n",
    "df.set_index('Date', inplace=True)\n",
    "print(df)"
   ]
  },
  {
   "cell_type": "code",
   "execution_count": 36,
   "id": "8e51786f",
   "metadata": {},
   "outputs": [
    {
     "name": "stdout",
     "output_type": "stream",
     "text": [
      "   Year Quarter  Product A  Product B\n",
      "0  2021      Q1        100        120\n",
      "1  2021      Q2        150        160\n",
      "2  2022      Q1        200        180\n",
      "3  2022      Q2        250        220\n"
     ]
    }
   ],
   "source": [
    "# Q9 Flatten a multi-index DataFrame of product sales.\n",
    "\n",
    "# Sample multi-index DataFrame\n",
    "arrays = [['2021', '2021', '2022', '2022'], ['Q1', 'Q2', 'Q1', 'Q2']]\n",
    "index = pd.MultiIndex.from_arrays(arrays, names=('Year', 'Quarter'))\n",
    "\n",
    "data = {\n",
    "    'Product A': [100, 150, 200, 250],\n",
    "    'Product B': [120, 160, 180, 220]\n",
    "}\n",
    "\n",
    "df = pd.DataFrame(data, index=index)\n",
    "\n",
    "# Flattening the multi-index DataFrame\n",
    "df_flat = df.reset_index()\n",
    "print(df_flat)\n"
   ]
  },
  {
   "cell_type": "code",
   "execution_count": 41,
   "id": "ff047e4a",
   "metadata": {},
   "outputs": [
    {
     "data": {
      "text/html": [
       "<div>\n",
       "<style scoped>\n",
       "    .dataframe tbody tr th:only-of-type {\n",
       "        vertical-align: middle;\n",
       "    }\n",
       "\n",
       "    .dataframe tbody tr th {\n",
       "        vertical-align: top;\n",
       "    }\n",
       "\n",
       "    .dataframe thead th {\n",
       "        text-align: right;\n",
       "    }\n",
       "</style>\n",
       "<table border=\"1\" class=\"dataframe\">\n",
       "  <thead>\n",
       "    <tr style=\"text-align: right;\">\n",
       "      <th></th>\n",
       "      <th>Category</th>\n",
       "      <th>Product</th>\n",
       "      <th>Sales</th>\n",
       "    </tr>\n",
       "  </thead>\n",
       "  <tbody>\n",
       "    <tr>\n",
       "      <th>0</th>\n",
       "      <td>Electronics</td>\n",
       "      <td>Phone</td>\n",
       "      <td>5000</td>\n",
       "    </tr>\n",
       "    <tr>\n",
       "      <th>1</th>\n",
       "      <td>Electronics</td>\n",
       "      <td>Laptop</td>\n",
       "      <td>7000</td>\n",
       "    </tr>\n",
       "    <tr>\n",
       "      <th>2</th>\n",
       "      <td>Furniture</td>\n",
       "      <td>Chair</td>\n",
       "      <td>3000</td>\n",
       "    </tr>\n",
       "    <tr>\n",
       "      <th>3</th>\n",
       "      <td>Furniture</td>\n",
       "      <td>Table</td>\n",
       "      <td>4000</td>\n",
       "    </tr>\n",
       "  </tbody>\n",
       "</table>\n",
       "</div>"
      ],
      "text/plain": [
       "      Category Product  Sales\n",
       "0  Electronics   Phone   5000\n",
       "1  Electronics  Laptop   7000\n",
       "2    Furniture   Chair   3000\n",
       "3    Furniture   Table   4000"
      ]
     },
     "execution_count": 41,
     "metadata": {},
     "output_type": "execute_result"
    }
   ],
   "source": [
    "# Q10 Create a multi-index using Category and Product in a product DataFrame. Then, average the levels in the column.\n",
    "\n",
    "# Sample product DataFrame\n",
    "data = {\n",
    "    'Category': ['Electronics', 'Electronics', 'Furniture', 'Furniture'],\n",
    "    'Product': ['Phone', 'Laptop', 'Chair', 'Table'],\n",
    "    'Sales': [5000, 7000, 3000, 4000]\n",
    "}\n",
    "\n",
    "df = pd.DataFrame(data)\n",
    "df"
   ]
  },
  {
   "cell_type": "code",
   "execution_count": 42,
   "id": "6e689b1c",
   "metadata": {},
   "outputs": [
    {
     "name": "stdout",
     "output_type": "stream",
     "text": [
      "              Sales\n",
      "Category           \n",
      "Electronics  6000.0\n",
      "Furniture    3500.0\n"
     ]
    }
   ],
   "source": [
    "# Creating multi-index\n",
    "df.set_index(['Category', 'Product'], inplace=True)\n",
    "\n",
    "# Averaging the sales for each category\n",
    "average_sales = df.groupby('Category').mean()\n",
    "print(average_sales)\n"
   ]
  },
  {
   "cell_type": "code",
   "execution_count": null,
   "id": "7ce8436b",
   "metadata": {},
   "outputs": [],
   "source": []
  }
 ],
 "metadata": {
  "kernelspec": {
   "display_name": "Python 3 (ipykernel)",
   "language": "python",
   "name": "python3"
  },
  "language_info": {
   "codemirror_mode": {
    "name": "ipython",
    "version": 3
   },
   "file_extension": ".py",
   "mimetype": "text/x-python",
   "name": "python",
   "nbconvert_exporter": "python",
   "pygments_lexer": "ipython3",
   "version": "3.12.6"
  }
 },
 "nbformat": 4,
 "nbformat_minor": 5
}
