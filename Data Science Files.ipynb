{
 "cells": [
  {
   "cell_type": "code",
   "execution_count": 1,
   "id": "d627736b-e0af-4d5d-8680-29b46efa6daa",
   "metadata": {},
   "outputs": [
    {
     "data": {
      "text/plain": [
       "2401"
      ]
     },
     "execution_count": 1,
     "metadata": {},
     "output_type": "execute_result"
    }
   ],
   "source": [
    "7**4"
   ]
  },
  {
   "cell_type": "code",
   "execution_count": 3,
   "id": "8a6103eb-5e8a-4819-9a24-5c8aa9422e90",
   "metadata": {},
   "outputs": [
    {
     "data": {
      "text/plain": [
       "['Hi', 'there', 'Sam!']"
      ]
     },
     "execution_count": 3,
     "metadata": {},
     "output_type": "execute_result"
    }
   ],
   "source": [
    "s = \"Hi there Sam!\"\n",
    "s.split()"
   ]
  },
  {
   "cell_type": "code",
   "execution_count": 5,
   "id": "1b7e21d3-3f68-4859-a091-eaad7723fd3e",
   "metadata": {},
   "outputs": [
    {
     "name": "stdout",
     "output_type": "stream",
     "text": [
      "The diameter of Earth is 12742 kilometers\n"
     ]
    }
   ],
   "source": [
    "planet = \"Earth\"\n",
    "diameter = 12742\n",
    "print(\"The diameter of {p} is {d} kilometers\".format(p=planet,d=diameter))"
   ]
  },
  {
   "cell_type": "code",
   "execution_count": 7,
   "id": "422f5268-8689-4036-9a9d-e9d3ac552f0f",
   "metadata": {},
   "outputs": [
    {
     "data": {
      "text/plain": [
       "'hello'"
      ]
     },
     "execution_count": 7,
     "metadata": {},
     "output_type": "execute_result"
    }
   ],
   "source": [
    "            lst = [1,2,[3,4],[5,[100,200,['hello']],23,11],1,7]\n",
    "lst[3][1][2][0]"
   ]
  },
  {
   "cell_type": "code",
   "execution_count": 9,
   "id": "804fbc27-0575-42ae-8bab-de9f58510440",
   "metadata": {},
   "outputs": [
    {
     "data": {
      "text/plain": [
       "'hello'"
      ]
     },
     "execution_count": 9,
     "metadata": {},
     "output_type": "execute_result"
    }
   ],
   "source": [
    "d = {'k1':[1,2,3,{'tricky':['oh','man','inception',{'target':[1,2,3,'hello']}]}]}\n",
    "d['k1'][3]['tricky'][3]['target'][3]"
   ]
  },
  {
   "cell_type": "code",
   "execution_count": 11,
   "id": "0c3bfe68-622f-40d7-9b80-12a19e946fdc",
   "metadata": {},
   "outputs": [
    {
     "data": {
      "text/plain": [
       "'domain.com'"
      ]
     },
     "execution_count": 11,
     "metadata": {},
     "output_type": "execute_result"
    }
   ],
   "source": [
    "def getDomain(s):\n",
    "    return s.split('@')[1]\n",
    "getDomain(\"user@domain.com\")"
   ]
  },
  {
   "cell_type": "code",
   "execution_count": 13,
   "id": "617284f9-7667-4f70-aafc-3f3a4091dd5f",
   "metadata": {},
   "outputs": [
    {
     "data": {
      "text/plain": [
       "True"
      ]
     },
     "execution_count": 13,
     "metadata": {},
     "output_type": "execute_result"
    }
   ],
   "source": [
    "def findDog(s):\n",
    "    return \"dog\" in s.lower()\n",
    "findDog(\"Is there any Dog there ?\")"
   ]
  },
  {
   "cell_type": "code",
   "execution_count": 15,
   "id": "5dad3efd-aa4c-4fde-ba9c-42962415305b",
   "metadata": {},
   "outputs": [
    {
     "data": {
      "text/plain": [
       "['soup', 'salad']"
      ]
     },
     "execution_count": 15,
     "metadata": {},
     "output_type": "execute_result"
    }
   ],
   "source": [
    "['soup','salad']\n",
    "seq = ['soup','dog','salad','cat','great']\n",
    "list(filter(lambda s: s[0]=='s',seq))"
   ]
  },
  {
   "cell_type": "code",
   "execution_count": 17,
   "id": "c3d1ead4-3a95-475b-81ff-7c863cc0667f",
   "metadata": {},
   "outputs": [
    {
     "data": {
      "text/plain": [
       "'Big Ticket'"
      ]
     },
     "execution_count": 17,
     "metadata": {},
     "output_type": "execute_result"
    }
   ],
   "source": [
    "def ticket(speed, birthday):\n",
    "    if birthday is True:\n",
    "        speed -= 5\n",
    "    if speed > 80:\n",
    "        return \"Big Ticket\"\n",
    "    elif speed >60:\n",
    "        return \"Small Ticket\"\n",
    "    else :\n",
    "        return \"No Ticket\"\n",
    "ticket(66, True)\n",
    "'Small Ticket'\n",
    "ticket(81, False)"
   ]
  },
  {
   "cell_type": "code",
   "execution_count": null,
   "id": "77e736a2-a30e-4542-aff9-f6cf61064f23",
   "metadata": {},
   "outputs": [],
   "source": []
  }
 ],
 "metadata": {
  "kernelspec": {
   "display_name": "Python 3 (ipykernel)",
   "language": "python",
   "name": "python3"
  },
  "language_info": {
   "codemirror_mode": {
    "name": "ipython",
    "version": 3
   },
   "file_extension": ".py",
   "mimetype": "text/x-python",
   "name": "python",
   "nbconvert_exporter": "python",
   "pygments_lexer": "ipython3",
   "version": "3.12.4"
  }
 },
 "nbformat": 4,
 "nbformat_minor": 5
}
